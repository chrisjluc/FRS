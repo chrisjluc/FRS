{
 "cells": [
  {
   "cell_type": "markdown",
   "metadata": {},
   "source": [
    "<h1>Stacked Auto Encoders Training 7-13-2016 With Noise</h1>\n",
    "\n",
    "Assuming CNN-H1, and the 6 CNNs for the patches have been trained, we can use the weights to get activations for their fc6 layer and train 3 layers of our SAE individually."
   ]
  },
  {
   "cell_type": "code",
   "execution_count": 1,
   "metadata": {
    "collapsed": false
   },
   "outputs": [],
   "source": [
    "%load_ext autoreload"
   ]
  },
  {
   "cell_type": "code",
   "execution_count": 2,
   "metadata": {
    "collapsed": false
   },
   "outputs": [
    {
     "name": "stderr",
     "output_type": "stream",
     "text": [
      "Using gpu device 1: GRID K520 (CNMeM is enabled with initial size: 98.0% of memory, CuDNN 3007)\n",
      "Using Theano backend.\n"
     ]
    }
   ],
   "source": [
    "%autoreload 2\n",
    "%matplotlib inline\n",
    "\n",
    "import theano.sandbox.cuda\n",
    "theano.sandbox.cuda.use('gpu1')\n",
    "\n",
    "import os\n",
    "import numpy as np\n",
    "import matplotlib.pyplot as plt\n",
    "\n",
    "from multiprocessing import Process\n",
    "from scipy.ndimage.filters import gaussian_filter\n",
    "\n",
    "from skimage import io\n",
    "from skimage.color import rgb2grey\n",
    "from skimage.transform import resize\n",
    "\n",
    "from keras.layers import Input, Dense\n",
    "from keras.models import Model, Sequential\n",
    "from keras import regularizers\n",
    "\n",
    "# from keras.utils import np_utils\n",
    "\n",
    "np.random.seed(123456)"
   ]
  },
  {
   "cell_type": "code",
   "execution_count": 3,
   "metadata": {
    "collapsed": false
   },
   "outputs": [],
   "source": [
    "cnn_h1_weight_file = 'CNN-H1_epoch-20_activations'\n",
    "cnn_p1_weight_file = 'CNN-P1_epoch-20_activations'\n",
    "cnn_p2_weight_file = 'CNN-P2_epoch-20_activations'\n",
    "cnn_p3_weight_file = 'CNN-P3_epoch-20_activations'\n",
    "cnn_p4_weight_file = 'CNN-P4_epoch-20_activations'\n",
    "cnn_p5_weight_file = 'CNN-P5_epoch-20_activations'\n",
    "cnn_p6_weight_file = 'CNN-P6_epoch-20_activations'\n",
    "y_train_file = 'y_train_activations'\n",
    "\n",
    "layer_1_size = 2048\n",
    "layer_2_size = 1024\n",
    "layer_3_size = 512\n",
    "\n",
    "validation_split = .15\n"
   ]
  },
  {
   "cell_type": "code",
   "execution_count": 70,
   "metadata": {
    "collapsed": true
   },
   "outputs": [],
   "source": [
    "def load_activations(file_name):\n",
    "    return np.load('models/' + file_name + '.npy')\n",
    "\n",
    "def save_activations(file_name, activations):\n",
    "    return np.save('models/' + file_name + '.npy', activations)"
   ]
  },
  {
   "cell_type": "code",
   "execution_count": 5,
   "metadata": {
    "collapsed": true
   },
   "outputs": [],
   "source": [
    "cnn_h1_activations = load_activations(cnn_h1_weight_file)\n",
    "cnn_p1_activations = load_activations(cnn_p1_weight_file)\n",
    "cnn_p2_activations = load_activations(cnn_p2_weight_file)\n",
    "cnn_p3_activations = load_activations(cnn_p3_weight_file)\n",
    "cnn_p4_activations = load_activations(cnn_p4_weight_file)\n",
    "cnn_p5_activations = load_activations(cnn_p5_weight_file)\n",
    "cnn_p6_activations = load_activations(cnn_p6_weight_file)\n",
    "y_train = load_activations(y_train_file)"
   ]
  },
  {
   "cell_type": "code",
   "execution_count": 6,
   "metadata": {
    "collapsed": true
   },
   "outputs": [],
   "source": [
    "def fix_activations(_activations):\n",
    "    return np.array([activation for activations in _activations for activation in activations])"
   ]
  },
  {
   "cell_type": "code",
   "execution_count": 7,
   "metadata": {
    "collapsed": false
   },
   "outputs": [],
   "source": [
    "cnn_h1_activations = fix_activations(cnn_h1_activations)\n",
    "cnn_p1_activations = fix_activations(cnn_p1_activations)\n",
    "cnn_p2_activations = fix_activations(cnn_p2_activations)\n",
    "cnn_p3_activations = fix_activations(cnn_p3_activations)\n",
    "cnn_p4_activations = fix_activations(cnn_p4_activations)\n",
    "cnn_p5_activations = fix_activations(cnn_p5_activations)\n",
    "cnn_p6_activations = fix_activations(cnn_p6_activations)"
   ]
  },
  {
   "cell_type": "code",
   "execution_count": 8,
   "metadata": {
    "collapsed": false
   },
   "outputs": [
    {
     "data": {
      "text/plain": [
       "(26668, 512)"
      ]
     },
     "execution_count": 8,
     "metadata": {},
     "output_type": "execute_result"
    }
   ],
   "source": [
    "cnn_h1_activations.shape"
   ]
  },
  {
   "cell_type": "code",
   "execution_count": 9,
   "metadata": {
    "collapsed": false
   },
   "outputs": [],
   "source": [
    "activations = np.concatenate((\n",
    "        cnn_h1_activations, \n",
    "        cnn_p1_activations,\n",
    "        cnn_p2_activations,\n",
    "        cnn_p3_activations,\n",
    "        cnn_p4_activations,\n",
    "        cnn_p5_activations,\n",
    "        cnn_p6_activations), axis=1)"
   ]
  },
  {
   "cell_type": "code",
   "execution_count": 10,
   "metadata": {
    "collapsed": false
   },
   "outputs": [
    {
     "data": {
      "text/plain": [
       "(26668, 3584)"
      ]
     },
     "execution_count": 10,
     "metadata": {},
     "output_type": "execute_result"
    }
   ],
   "source": [
    "activations.shape"
   ]
  },
  {
   "cell_type": "code",
   "execution_count": 11,
   "metadata": {
    "collapsed": false
   },
   "outputs": [
    {
     "data": {
      "text/plain": [
       "(26668,)"
      ]
     },
     "execution_count": 11,
     "metadata": {},
     "output_type": "execute_result"
    }
   ],
   "source": [
    "y_train.shape"
   ]
  },
  {
   "cell_type": "markdown",
   "metadata": {},
   "source": [
    "<h2>Random Noise</h2>"
   ]
  },
  {
   "cell_type": "code",
   "execution_count": 59,
   "metadata": {
    "collapsed": false
   },
   "outputs": [],
   "source": [
    "def random_noise(activations, random_threshold, gaussian_scale):\n",
    "    return np.array([np.array([value + np.random.normal(scale=gaussian_scale) \n",
    "                      if np.random.rand() < random_threshold else value\n",
    "                      for value in activation]) for activation in activations])       "
   ]
  },
  {
   "cell_type": "code",
   "execution_count": 65,
   "metadata": {
    "collapsed": false
   },
   "outputs": [
    {
     "ename": "KeyboardInterrupt",
     "evalue": "",
     "output_type": "error",
     "traceback": [
      "\u001b[1;31m---------------------------------------------------------------------------\u001b[0m",
      "\u001b[1;31mKeyboardInterrupt\u001b[0m                         Traceback (most recent call last)",
      "\u001b[1;32m<ipython-input-65-7e6cfb3d14d2>\u001b[0m in \u001b[0;36m<module>\u001b[1;34m()\u001b[0m\n\u001b[1;32m----> 1\u001b[1;33m \u001b[0mactivations_with_noise_05_1\u001b[0m \u001b[1;33m=\u001b[0m \u001b[0mrandom_noise\u001b[0m\u001b[1;33m(\u001b[0m\u001b[0mactivations\u001b[0m\u001b[1;33m,\u001b[0m \u001b[1;36m.05\u001b[0m\u001b[1;33m,\u001b[0m \u001b[1;36m1\u001b[0m\u001b[1;33m)\u001b[0m\u001b[1;33m\u001b[0m\u001b[0m\n\u001b[0m",
      "\u001b[1;32m<ipython-input-59-ac9cf6f7f84c>\u001b[0m in \u001b[0;36mrandom_noise\u001b[1;34m(activations, random_threshold, gaussian_scale)\u001b[0m\n\u001b[0;32m      2\u001b[0m     return np.array([np.array([value + np.random.normal(scale=gaussian_scale) \n\u001b[0;32m      3\u001b[0m                       \u001b[1;32mif\u001b[0m \u001b[0mnp\u001b[0m\u001b[1;33m.\u001b[0m\u001b[0mrandom\u001b[0m\u001b[1;33m.\u001b[0m\u001b[0mrand\u001b[0m\u001b[1;33m(\u001b[0m\u001b[1;33m)\u001b[0m \u001b[1;33m<\u001b[0m \u001b[0mrandom_threshold\u001b[0m \u001b[1;32melse\u001b[0m \u001b[0mvalue\u001b[0m\u001b[1;33m\u001b[0m\u001b[0m\n\u001b[1;32m----> 4\u001b[1;33m                       for value in activation]) for activation in activations])       \n\u001b[0m",
      "\u001b[1;31mKeyboardInterrupt\u001b[0m: "
     ]
    }
   ],
   "source": [
    "activations_with_noise_05_1 = random_noise(activations, .05, 1)"
   ]
  },
  {
   "cell_type": "code",
   "execution_count": 71,
   "metadata": {
    "collapsed": false
   },
   "outputs": [],
   "source": [
    "save_activations('activations_with_noise_05_1', activations_with_noise_05_1)"
   ]
  },
  {
   "cell_type": "markdown",
   "metadata": {},
   "source": [
    "<h2>Auto Encoder</h2>"
   ]
  },
  {
   "cell_type": "code",
   "execution_count": 66,
   "metadata": {
    "collapsed": false
   },
   "outputs": [],
   "source": [
    "def get_encoder(X_train, X_test, encoding_dim, nb_epoch=50, regularizer=10e-5):\n",
    "    assert X_train.shape[1] == X_test.shape[1]\n",
    "    shape = X_train.shape[1]\n",
    "\n",
    "    input_img = Input(shape=(shape,))\n",
    "    encoded = Dense(\n",
    "        encoding_dim, \n",
    "        activation='relu', \n",
    "        activity_regularizer=regularizers.activity_l1(regularizer)\n",
    "    )(input_img)\n",
    "    decoded = Dense(shape, activation='sigmoid')(encoded)\n",
    "\n",
    "    autoencoder = Model(input=input_img, output=decoded)\n",
    "    encoder = Model(input=input_img, output=encoded)\n",
    "\n",
    "    # sgd = SGD(lr=.01, decay=99.9) #lr=0.01->0.00001\n",
    "    autoencoder.compile(\n",
    "        optimizer='adadelta', \n",
    "        loss='categorical_crossentropy', \n",
    "        metrics=['accuracy'])\n",
    "    \n",
    "    autoencoder.fit(X_train, X_train,\n",
    "                nb_epoch=nb_epoch,\n",
    "                batch_size=256,\n",
    "                shuffle=True,\n",
    "                validation_data=(X_test, X_test))\n",
    "    return autoencoder, encoder\n",
    "    "
   ]
  },
  {
   "cell_type": "code",
   "execution_count": 67,
   "metadata": {
    "collapsed": false
   },
   "outputs": [],
   "source": [
    "activations_with_noise = load_activations('activations_with_noise_05_1')\n",
    "\n",
    "x_train = activations_with_noise[:int(activations_with_noise.shape[0] * (1 - validation_split))]\n",
    "x_test = activations_with_noise[int(activations_with_noise.shape[0] * (1 - validation_split)):]\n",
    "X_train = x_train.reshape((len(x_train), np.prod(x_train.shape[1:])))\n",
    "X_test = x_test.reshape((len(x_test), np.prod(x_test.shape[1:])))"
   ]
  },
  {
   "cell_type": "code",
   "execution_count": 68,
   "metadata": {
    "collapsed": false
   },
   "outputs": [
    {
     "name": "stdout",
     "output_type": "stream",
     "text": [
      "Train on 22667 samples, validate on 4001 samples\n",
      "Epoch 1/30\n",
      "22667/22667 [==============================] - 4s - loss: -58107.9589 - acc: 0.0521 - val_loss: -65617.0481 - val_acc: 0.0932\n",
      "Epoch 2/30\n",
      "22667/22667 [==============================] - 4s - loss: -67561.0522 - acc: 0.1230 - val_loss: -68496.7222 - val_acc: 0.1400\n",
      "Epoch 3/30\n",
      "22667/22667 [==============================] - 4s - loss: -69732.6775 - acc: 0.1687 - val_loss: -70293.8552 - val_acc: 0.1930\n",
      "Epoch 4/30\n",
      "22667/22667 [==============================] - 4s - loss: -70999.9231 - acc: 0.1922 - val_loss: -70853.5306 - val_acc: 0.2002\n",
      "Epoch 5/30\n",
      "22667/22667 [==============================] - 4s - loss: -71825.0211 - acc: 0.2205 - val_loss: -71732.4067 - val_acc: 0.2287\n",
      "Epoch 6/30\n",
      "22667/22667 [==============================] - 4s - loss: -72462.4277 - acc: 0.2398 - val_loss: -72306.9324 - val_acc: 0.2467\n",
      "Epoch 7/30\n",
      "22667/22667 [==============================] - 4s - loss: -72936.4505 - acc: 0.2550 - val_loss: -72616.5206 - val_acc: 0.2742\n",
      "Epoch 8/30\n",
      "22667/22667 [==============================] - 4s - loss: -73308.1426 - acc: 0.2680 - val_loss: -72851.0501 - val_acc: 0.2742\n",
      "Epoch 9/30\n",
      "22667/22667 [==============================] - 4s - loss: -73667.3901 - acc: 0.2756 - val_loss: -73155.3763 - val_acc: 0.2807\n",
      "Epoch 10/30\n",
      "22667/22667 [==============================] - 4s - loss: -73901.3805 - acc: 0.2903 - val_loss: -73357.7225 - val_acc: 0.2884\n",
      "Epoch 11/30\n",
      "22667/22667 [==============================] - 4s - loss: -74151.5216 - acc: 0.2993 - val_loss: -73662.4201 - val_acc: 0.2969\n",
      "Epoch 12/30\n",
      "22667/22667 [==============================] - 4s - loss: -74338.4379 - acc: 0.3047 - val_loss: -73992.6439 - val_acc: 0.3129\n",
      "Epoch 13/30\n",
      "22667/22667 [==============================] - 4s - loss: -74556.3826 - acc: 0.3120 - val_loss: -73920.9059 - val_acc: 0.3177\n",
      "Epoch 14/30\n",
      "22667/22667 [==============================] - 4s - loss: -74715.9388 - acc: 0.3156 - val_loss: -74237.7303 - val_acc: 0.3352\n",
      "Epoch 15/30\n",
      "22667/22667 [==============================] - 4s - loss: -74884.5754 - acc: 0.3205 - val_loss: -74130.4251 - val_acc: 0.3187\n",
      "Epoch 16/30\n",
      "22667/22667 [==============================] - 4s - loss: -75007.9186 - acc: 0.3243 - val_loss: -74453.2566 - val_acc: 0.3307\n",
      "Epoch 17/30\n",
      "22667/22667 [==============================] - 4s - loss: -75138.3416 - acc: 0.3293 - val_loss: -74386.0230 - val_acc: 0.3179\n",
      "Epoch 18/30\n",
      "22667/22667 [==============================] - 4s - loss: -75246.8515 - acc: 0.3351 - val_loss: -74227.6226 - val_acc: 0.3242\n",
      "Epoch 19/30\n",
      "22667/22667 [==============================] - 4s - loss: -75353.9547 - acc: 0.3355 - val_loss: -74617.9375 - val_acc: 0.3329\n",
      "Epoch 20/30\n",
      "22667/22667 [==============================] - 4s - loss: -75455.9894 - acc: 0.3435 - val_loss: -74785.2684 - val_acc: 0.3472\n",
      "Epoch 21/30\n",
      "22667/22667 [==============================] - 4s - loss: -75581.6846 - acc: 0.3465 - val_loss: -74751.8515 - val_acc: 0.3464\n",
      "Epoch 22/30\n",
      "22667/22667 [==============================] - 4s - loss: -75620.1396 - acc: 0.3474 - val_loss: -75008.1141 - val_acc: 0.3487\n",
      "Epoch 23/30\n",
      "22667/22667 [==============================] - 4s - loss: -75711.9387 - acc: 0.3495 - val_loss: -74496.6610 - val_acc: 0.3414\n",
      "Epoch 24/30\n",
      "22667/22667 [==============================] - 4s - loss: -75806.9520 - acc: 0.3487 - val_loss: -75022.6709 - val_acc: 0.3504\n",
      "Epoch 25/30\n",
      "22667/22667 [==============================] - 4s - loss: -75873.2932 - acc: 0.3547 - val_loss: -75074.1724 - val_acc: 0.3497\n",
      "Epoch 26/30\n",
      "22667/22667 [==============================] - 4s - loss: -75929.8044 - acc: 0.3519 - val_loss: -75082.0046 - val_acc: 0.3462\n",
      "Epoch 27/30\n",
      "22667/22667 [==============================] - 4s - loss: -76005.2711 - acc: 0.3597 - val_loss: -75108.7434 - val_acc: 0.3424\n",
      "Epoch 28/30\n",
      "22667/22667 [==============================] - 4s - loss: -76075.2963 - acc: 0.3588 - val_loss: -75191.4722 - val_acc: 0.3397\n",
      "Epoch 29/30\n",
      "22667/22667 [==============================] - 4s - loss: -76111.0853 - acc: 0.3577 - val_loss: -75294.3501 - val_acc: 0.3597\n",
      "Epoch 30/30\n",
      "22667/22667 [==============================] - 4s - loss: -76166.0273 - acc: 0.3626 - val_loss: -75198.8851 - val_acc: 0.3567\n"
     ]
    }
   ],
   "source": [
    "autoencoder1, encoder1 = get_encoder(X_train, X_test, 2048, 30, 10e-3)"
   ]
  },
  {
   "cell_type": "code",
   "execution_count": 72,
   "metadata": {
    "collapsed": false
   },
   "outputs": [
    {
     "name": "stderr",
     "output_type": "stream",
     "text": [
      "/usr/local/lib/python2.7/dist-packages/keras/backend/theano_backend.py:514: UserWarning: theano.function was asked to create a function computing outputs given certain inputs, but the provided input variable at index 1 is not part of the computational graph needed to compute the outputs: keras_learning_phase.\n",
      "To make this warning into an error, you can pass the parameter on_unused_input='raise' to theano.function. To disable it completely, use on_unused_input='ignore'.\n",
      "  **kwargs)\n"
     ]
    },
    {
     "name": "stdout",
     "output_type": "stream",
     "text": [
      "(22667, 2048)\n",
      "(4001, 2048)\n"
     ]
    }
   ],
   "source": [
    "X_train = encoder1.predict(X_train)\n",
    "X_test = encoder1.predict(X_test)\n",
    "\n",
    "print X_train.shape\n",
    "print X_test.shape"
   ]
  },
  {
   "cell_type": "code",
   "execution_count": 73,
   "metadata": {
    "collapsed": false
   },
   "outputs": [
    {
     "name": "stdout",
     "output_type": "stream",
     "text": [
      "Train on 22667 samples, validate on 4001 samples\n",
      "Epoch 1/50\n",
      "22667/22667 [==============================] - 2s - loss: 90442.2203 - acc: 3.5294e-04 - val_loss: 89547.5544 - val_acc: 2.4994e-04\n",
      "Epoch 2/50\n",
      "22667/22667 [==============================] - 2s - loss: 89405.9744 - acc: 0.0014 - val_loss: 88747.3123 - val_acc: 0.0027\n",
      "Epoch 3/50\n",
      "22667/22667 [==============================] - 2s - loss: 88353.1115 - acc: 0.0255 - val_loss: 87384.0254 - val_acc: 0.0712\n",
      "Epoch 4/50\n",
      "22667/22667 [==============================] - 2s - loss: 86846.8374 - acc: 0.1025 - val_loss: 86155.4334 - val_acc: 0.1310\n",
      "Epoch 5/50\n",
      "22667/22667 [==============================] - 2s - loss: 85641.2681 - acc: 0.1631 - val_loss: 85221.2403 - val_acc: 0.1900\n",
      "Epoch 6/50\n",
      "22667/22667 [==============================] - 2s - loss: 84722.3260 - acc: 0.2237 - val_loss: 84636.2191 - val_acc: 0.2402\n",
      "Epoch 7/50\n",
      "22667/22667 [==============================] - 2s - loss: 84071.4254 - acc: 0.2619 - val_loss: 84059.1067 - val_acc: 0.3014\n",
      "Epoch 8/50\n",
      "22667/22667 [==============================] - 2s - loss: 83580.5664 - acc: 0.2990 - val_loss: 83511.6293 - val_acc: 0.3284\n",
      "Epoch 9/50\n",
      "22667/22667 [==============================] - 2s - loss: 83193.3564 - acc: 0.3328 - val_loss: 83307.1563 - val_acc: 0.3519\n",
      "Epoch 10/50\n",
      "22667/22667 [==============================] - 2s - loss: 82881.8611 - acc: 0.3612 - val_loss: 83014.2916 - val_acc: 0.3914\n",
      "Epoch 11/50\n",
      "22667/22667 [==============================] - 2s - loss: 82661.2452 - acc: 0.3791 - val_loss: 82869.1877 - val_acc: 0.3862\n",
      "Epoch 12/50\n",
      "22667/22667 [==============================] - 2s - loss: 82479.5059 - acc: 0.3952 - val_loss: 82646.6425 - val_acc: 0.4104\n",
      "Epoch 13/50\n",
      "22667/22667 [==============================] - 2s - loss: 82327.1665 - acc: 0.4076 - val_loss: 82669.3856 - val_acc: 0.3999\n",
      "Epoch 14/50\n",
      "22667/22667 [==============================] - 2s - loss: 82210.4049 - acc: 0.4188 - val_loss: 82436.6021 - val_acc: 0.4291\n",
      "Epoch 15/50\n",
      "22667/22667 [==============================] - 2s - loss: 82100.7137 - acc: 0.4299 - val_loss: 82321.6900 - val_acc: 0.4479\n",
      "Epoch 16/50\n",
      "22667/22667 [==============================] - 2s - loss: 82015.2144 - acc: 0.4382 - val_loss: 82294.5767 - val_acc: 0.4491\n",
      "Epoch 17/50\n",
      "22667/22667 [==============================] - 2s - loss: 81929.9004 - acc: 0.4476 - val_loss: 82302.4252 - val_acc: 0.4394\n",
      "Epoch 18/50\n",
      "22667/22667 [==============================] - 2s - loss: 81874.8952 - acc: 0.4548 - val_loss: 82338.5440 - val_acc: 0.4279\n",
      "Epoch 19/50\n",
      "22667/22667 [==============================] - 2s - loss: 81822.3525 - acc: 0.4575 - val_loss: 82273.2927 - val_acc: 0.4521\n",
      "Epoch 20/50\n",
      "22667/22667 [==============================] - 2s - loss: 81759.3668 - acc: 0.4688 - val_loss: 82287.2723 - val_acc: 0.4421\n",
      "Epoch 21/50\n",
      "22667/22667 [==============================] - 2s - loss: 81722.3880 - acc: 0.4709 - val_loss: 82068.2392 - val_acc: 0.4749\n",
      "Epoch 22/50\n",
      "22667/22667 [==============================] - 2s - loss: 81681.2903 - acc: 0.4723 - val_loss: 82043.7511 - val_acc: 0.4581\n",
      "Epoch 23/50\n",
      "22667/22667 [==============================] - 2s - loss: 81643.7218 - acc: 0.4774 - val_loss: 82207.8521 - val_acc: 0.4506\n",
      "Epoch 24/50\n",
      "22667/22667 [==============================] - 2s - loss: 81608.1934 - acc: 0.4831 - val_loss: 81944.1743 - val_acc: 0.4796\n",
      "Epoch 25/50\n",
      "22667/22667 [==============================] - 2s - loss: 81576.7241 - acc: 0.4866 - val_loss: 82107.1448 - val_acc: 0.4691\n",
      "Epoch 26/50\n",
      "22667/22667 [==============================] - 2s - loss: 81552.0982 - acc: 0.4880 - val_loss: 81898.8725 - val_acc: 0.5091\n",
      "Epoch 27/50\n",
      "22667/22667 [==============================] - 2s - loss: 81530.7226 - acc: 0.4904 - val_loss: 81976.1545 - val_acc: 0.4899\n",
      "Epoch 28/50\n",
      "22667/22667 [==============================] - 2s - loss: 81503.2576 - acc: 0.4969 - val_loss: 81828.2229 - val_acc: 0.5004\n",
      "Epoch 29/50\n",
      "22667/22667 [==============================] - 2s - loss: 81485.6153 - acc: 0.4980 - val_loss: 81960.0022 - val_acc: 0.4686\n",
      "Epoch 30/50\n",
      "22667/22667 [==============================] - 2s - loss: 81461.2003 - acc: 0.4993 - val_loss: 81899.4852 - val_acc: 0.4974\n",
      "Epoch 31/50\n",
      "22667/22667 [==============================] - 2s - loss: 81428.4768 - acc: 0.5043 - val_loss: 81803.2757 - val_acc: 0.5006\n",
      "Epoch 32/50\n",
      "22667/22667 [==============================] - 2s - loss: 81419.8143 - acc: 0.5072 - val_loss: 81800.5864 - val_acc: 0.5036\n",
      "Epoch 33/50\n",
      "22667/22667 [==============================] - 2s - loss: 81417.0002 - acc: 0.5079 - val_loss: 81698.4539 - val_acc: 0.4939\n",
      "Epoch 34/50\n",
      "22667/22667 [==============================] - 2s - loss: 81394.2216 - acc: 0.5087 - val_loss: 81731.0055 - val_acc: 0.5091\n",
      "Epoch 35/50\n",
      "22667/22667 [==============================] - 2s - loss: 81372.9240 - acc: 0.5135 - val_loss: 81889.6029 - val_acc: 0.4944\n",
      "Epoch 36/50\n",
      "22667/22667 [==============================] - 2s - loss: 81367.8356 - acc: 0.5121 - val_loss: 81688.5140 - val_acc: 0.5094\n",
      "Epoch 37/50\n",
      "22667/22667 [==============================] - 2s - loss: 81348.0334 - acc: 0.5183 - val_loss: 81627.3266 - val_acc: 0.5239\n",
      "Epoch 38/50\n",
      "22667/22667 [==============================] - 2s - loss: 81329.6675 - acc: 0.5187 - val_loss: 81709.7550 - val_acc: 0.5206\n",
      "Epoch 39/50\n",
      "22667/22667 [==============================] - 2s - loss: 81339.9151 - acc: 0.5165 - val_loss: 81795.1707 - val_acc: 0.4986\n",
      "Epoch 40/50\n",
      "22667/22667 [==============================] - 2s - loss: 81300.7794 - acc: 0.5231 - val_loss: 81653.9191 - val_acc: 0.5259\n",
      "Epoch 41/50\n",
      "22667/22667 [==============================] - 2s - loss: 81298.5187 - acc: 0.5191 - val_loss: 81683.5247 - val_acc: 0.4981\n",
      "Epoch 42/50\n",
      "22667/22667 [==============================] - 2s - loss: 81294.0996 - acc: 0.5257 - val_loss: 81736.3019 - val_acc: 0.5061\n",
      "Epoch 43/50\n",
      "22667/22667 [==============================] - 2s - loss: 81279.4879 - acc: 0.5251 - val_loss: 81583.5546 - val_acc: 0.5176\n",
      "Epoch 44/50\n",
      "22667/22667 [==============================] - 2s - loss: 81279.1978 - acc: 0.5242 - val_loss: 81587.6183 - val_acc: 0.5149\n",
      "Epoch 45/50\n",
      "22667/22667 [==============================] - 2s - loss: 81254.5316 - acc: 0.5350 - val_loss: 81714.2344 - val_acc: 0.5156\n",
      "Epoch 46/50\n",
      "22667/22667 [==============================] - 2s - loss: 81262.9369 - acc: 0.5273 - val_loss: 81633.6731 - val_acc: 0.5041\n",
      "Epoch 47/50\n",
      "22667/22667 [==============================] - 2s - loss: 81225.4318 - acc: 0.5350 - val_loss: 81612.6570 - val_acc: 0.5186\n",
      "Epoch 48/50\n",
      "22667/22667 [==============================] - 2s - loss: 81238.6238 - acc: 0.5302 - val_loss: 81784.2430 - val_acc: 0.4894\n",
      "Epoch 49/50\n",
      "22667/22667 [==============================] - 2s - loss: 81230.8967 - acc: 0.5307 - val_loss: 81621.5493 - val_acc: 0.5296\n",
      "Epoch 50/50\n",
      "22667/22667 [==============================] - 2s - loss: 81216.9675 - acc: 0.5354 - val_loss: 81557.4041 - val_acc: 0.5116\n"
     ]
    }
   ],
   "source": [
    "autoencoder2, encoder2 = get_encoder(X_train, X_test, 1024, 50)"
   ]
  },
  {
   "cell_type": "code",
   "execution_count": 74,
   "metadata": {
    "collapsed": false
   },
   "outputs": [
    {
     "name": "stdout",
     "output_type": "stream",
     "text": [
      "(22667, 1024)\n",
      "(4001, 1024)\n"
     ]
    }
   ],
   "source": [
    "X_train = encoder2.predict(X_train)\n",
    "X_test = encoder2.predict(X_test)\n",
    "\n",
    "print X_train.shape\n",
    "print X_test.shape"
   ]
  },
  {
   "cell_type": "code",
   "execution_count": 75,
   "metadata": {
    "collapsed": false
   },
   "outputs": [
    {
     "name": "stdout",
     "output_type": "stream",
     "text": [
      "Train on 22667 samples, validate on 4001 samples\n",
      "Epoch 1/50\n",
      "22667/22667 [==============================] - 1s - loss: 13569.0686 - acc: 0.0015 - val_loss: 12781.3793 - val_acc: 0.0015\n",
      "Epoch 2/50\n",
      "22667/22667 [==============================] - 1s - loss: 12897.6966 - acc: 0.0101 - val_loss: 12230.6805 - val_acc: 0.0702\n",
      "Epoch 3/50\n",
      "22667/22667 [==============================] - 1s - loss: 12303.5779 - acc: 0.2299 - val_loss: 11746.7620 - val_acc: 0.3019\n",
      "Epoch 4/50\n",
      "22667/22667 [==============================] - 1s - loss: 11887.7001 - acc: 0.3334 - val_loss: 11448.5548 - val_acc: 0.3777\n",
      "Epoch 5/50\n",
      "22667/22667 [==============================] - 1s - loss: 11630.4836 - acc: 0.3827 - val_loss: 11278.6853 - val_acc: 0.4181\n",
      "Epoch 6/50\n",
      "22667/22667 [==============================] - 1s - loss: 11465.8468 - acc: 0.4077 - val_loss: 11167.9857 - val_acc: 0.3839\n",
      "Epoch 7/50\n",
      "22667/22667 [==============================] - 1s - loss: 11346.3691 - acc: 0.4156 - val_loss: 11091.4286 - val_acc: 0.4029\n",
      "Epoch 8/50\n",
      "22667/22667 [==============================] - 1s - loss: 11255.3206 - acc: 0.4315 - val_loss: 11011.0509 - val_acc: 0.4141\n",
      "Epoch 9/50\n",
      "22667/22667 [==============================] - 1s - loss: 11187.4496 - acc: 0.4393 - val_loss: 10935.0600 - val_acc: 0.4921\n",
      "Epoch 10/50\n",
      "22667/22667 [==============================] - 1s - loss: 11127.0958 - acc: 0.4509 - val_loss: 10900.1264 - val_acc: 0.4481\n",
      "Epoch 11/50\n",
      "22667/22667 [==============================] - 1s - loss: 11080.9299 - acc: 0.4623 - val_loss: 10864.4566 - val_acc: 0.4509\n",
      "Epoch 12/50\n",
      "22667/22667 [==============================] - 1s - loss: 11041.6376 - acc: 0.4694 - val_loss: 10830.1116 - val_acc: 0.5096\n",
      "Epoch 13/50\n",
      "22667/22667 [==============================] - 1s - loss: 11011.5890 - acc: 0.4826 - val_loss: 10801.9967 - val_acc: 0.4879\n",
      "Epoch 14/50\n",
      "22667/22667 [==============================] - 1s - loss: 10980.0228 - acc: 0.4911 - val_loss: 10768.9363 - val_acc: 0.4841\n",
      "Epoch 15/50\n",
      "22667/22667 [==============================] - 1s - loss: 10959.7993 - acc: 0.5048 - val_loss: 10759.7818 - val_acc: 0.5364\n",
      "Epoch 16/50\n",
      "22667/22667 [==============================] - 1s - loss: 10933.1493 - acc: 0.5114 - val_loss: 10738.3264 - val_acc: 0.5104\n",
      "Epoch 17/50\n",
      "22667/22667 [==============================] - 1s - loss: 10917.6807 - acc: 0.5279 - val_loss: 10714.1130 - val_acc: 0.5496\n",
      "Epoch 18/50\n",
      "22667/22667 [==============================] - 1s - loss: 10899.7700 - acc: 0.5440 - val_loss: 10715.0150 - val_acc: 0.5699\n",
      "Epoch 19/50\n",
      "22667/22667 [==============================] - 1s - loss: 10886.4041 - acc: 0.5518 - val_loss: 10699.8674 - val_acc: 0.5729\n",
      "Epoch 20/50\n",
      "22667/22667 [==============================] - 1s - loss: 10871.2313 - acc: 0.5613 - val_loss: 10677.1355 - val_acc: 0.5764\n",
      "Epoch 21/50\n",
      "22667/22667 [==============================] - 1s - loss: 10864.1144 - acc: 0.5669 - val_loss: 10653.5456 - val_acc: 0.6061\n",
      "Epoch 22/50\n",
      "22667/22667 [==============================] - 1s - loss: 10851.8668 - acc: 0.5737 - val_loss: 10648.9421 - val_acc: 0.5746\n",
      "Epoch 23/50\n",
      "22667/22667 [==============================] - 1s - loss: 10841.8806 - acc: 0.5810 - val_loss: 10647.9221 - val_acc: 0.6113\n",
      "Epoch 24/50\n",
      "22667/22667 [==============================] - 1s - loss: 10838.3313 - acc: 0.5826 - val_loss: 10635.1707 - val_acc: 0.6026\n",
      "Epoch 25/50\n",
      "22667/22667 [==============================] - 1s - loss: 10830.9491 - acc: 0.5860 - val_loss: 10626.2373 - val_acc: 0.5981\n",
      "Epoch 26/50\n",
      "22667/22667 [==============================] - 1s - loss: 10824.1963 - acc: 0.5914 - val_loss: 10651.8415 - val_acc: 0.5931\n",
      "Epoch 27/50\n",
      "22667/22667 [==============================] - 1s - loss: 10818.8444 - acc: 0.5952 - val_loss: 10631.4146 - val_acc: 0.6168\n",
      "Epoch 28/50\n",
      "22667/22667 [==============================] - 1s - loss: 10813.5495 - acc: 0.5984 - val_loss: 10629.1990 - val_acc: 0.5964\n",
      "Epoch 29/50\n",
      "22667/22667 [==============================] - 1s - loss: 10809.1685 - acc: 0.6021 - val_loss: 10624.5452 - val_acc: 0.6011\n",
      "Epoch 30/50\n",
      "22667/22667 [==============================] - 1s - loss: 10806.6727 - acc: 0.6037 - val_loss: 10623.3933 - val_acc: 0.6228\n",
      "Epoch 31/50\n",
      "22667/22667 [==============================] - 1s - loss: 10801.3138 - acc: 0.6040 - val_loss: 10635.6632 - val_acc: 0.6131\n",
      "Epoch 32/50\n",
      "22667/22667 [==============================] - 1s - loss: 10796.2537 - acc: 0.6057 - val_loss: 10608.4074 - val_acc: 0.6196\n",
      "Epoch 33/50\n",
      "22667/22667 [==============================] - 1s - loss: 10793.0575 - acc: 0.6115 - val_loss: 10591.1443 - val_acc: 0.6378\n",
      "Epoch 34/50\n",
      "22667/22667 [==============================] - 1s - loss: 10791.8583 - acc: 0.6094 - val_loss: 10612.7810 - val_acc: 0.6228\n",
      "Epoch 35/50\n",
      "22667/22667 [==============================] - 1s - loss: 10788.1457 - acc: 0.6107 - val_loss: 10619.2371 - val_acc: 0.6166\n",
      "Epoch 36/50\n",
      "22667/22667 [==============================] - 1s - loss: 10786.1625 - acc: 0.6126 - val_loss: 10583.1724 - val_acc: 0.6476\n",
      "Epoch 37/50\n",
      "22667/22667 [==============================] - 1s - loss: 10782.0178 - acc: 0.6189 - val_loss: 10611.2543 - val_acc: 0.6208\n",
      "Epoch 38/50\n",
      "22667/22667 [==============================] - 1s - loss: 10780.1499 - acc: 0.6163 - val_loss: 10589.4332 - val_acc: 0.6248\n",
      "Epoch 39/50\n",
      "22667/22667 [==============================] - 1s - loss: 10776.6137 - acc: 0.6188 - val_loss: 10574.7042 - val_acc: 0.6326\n",
      "Epoch 40/50\n",
      "22667/22667 [==============================] - 1s - loss: 10775.9934 - acc: 0.6167 - val_loss: 10593.3059 - val_acc: 0.6426\n",
      "Epoch 41/50\n",
      "22667/22667 [==============================] - 1s - loss: 10774.0472 - acc: 0.6161 - val_loss: 10601.8648 - val_acc: 0.6313\n",
      "Epoch 42/50\n",
      "22667/22667 [==============================] - 1s - loss: 10772.0587 - acc: 0.6197 - val_loss: 10598.4915 - val_acc: 0.6338\n",
      "Epoch 43/50\n",
      "22667/22667 [==============================] - 1s - loss: 10770.0882 - acc: 0.6171 - val_loss: 10603.8246 - val_acc: 0.6336\n",
      "Epoch 44/50\n",
      "22667/22667 [==============================] - 1s - loss: 10767.1680 - acc: 0.6169 - val_loss: 10585.7526 - val_acc: 0.6333\n",
      "Epoch 45/50\n",
      "22667/22667 [==============================] - 1s - loss: 10764.7694 - acc: 0.6198 - val_loss: 10587.7687 - val_acc: 0.6183\n",
      "Epoch 46/50\n",
      "22667/22667 [==============================] - 1s - loss: 10763.3321 - acc: 0.6167 - val_loss: 10598.1202 - val_acc: 0.6321\n",
      "Epoch 47/50\n",
      "22667/22667 [==============================] - 1s - loss: 10763.6564 - acc: 0.6234 - val_loss: 10570.6552 - val_acc: 0.6408\n",
      "Epoch 48/50\n",
      "22667/22667 [==============================] - 1s - loss: 10761.6974 - acc: 0.6216 - val_loss: 10592.0656 - val_acc: 0.6308\n",
      "Epoch 49/50\n",
      "22667/22667 [==============================] - 1s - loss: 10762.3032 - acc: 0.6196 - val_loss: 10592.4467 - val_acc: 0.6423\n",
      "Epoch 50/50\n",
      "22667/22667 [==============================] - 1s - loss: 10758.4585 - acc: 0.6244 - val_loss: 10592.9579 - val_acc: 0.6393\n"
     ]
    }
   ],
   "source": [
    "autoencoder3, encoder3 = get_encoder(X_train, X_test, 512, 50)"
   ]
  },
  {
   "cell_type": "code",
   "execution_count": 76,
   "metadata": {
    "collapsed": false
   },
   "outputs": [
    {
     "name": "stdout",
     "output_type": "stream",
     "text": [
      "(22667, 512)\n",
      "(4001, 512)\n"
     ]
    }
   ],
   "source": [
    "X_train = encoder3.predict(X_train)\n",
    "X_test = encoder3.predict(X_test)\n",
    "\n",
    "print X_train.shape\n",
    "print X_test.shape"
   ]
  },
  {
   "cell_type": "markdown",
   "metadata": {},
   "source": [
    "<h2>Train all together</h2>"
   ]
  },
  {
   "cell_type": "code",
   "execution_count": 14,
   "metadata": {
    "collapsed": false
   },
   "outputs": [
    {
     "name": "stdout",
     "output_type": "stream",
     "text": [
      "Train on 22667 samples, validate on 4001 samples\n",
      "Epoch 1/100\n",
      "22667/22667 [==============================] - 4s - loss: -30.7396 - acc: 0.0057 - val_loss: -38.3032 - val_acc: 0.0122\n",
      "Epoch 2/100\n",
      "22667/22667 [==============================] - 4s - loss: -40.9426 - acc: 0.0139 - val_loss: -42.7448 - val_acc: 0.0165\n",
      "Epoch 3/100\n",
      "22667/22667 [==============================] - 4s - loss: -45.7900 - acc: 0.0219 - val_loss: -47.3148 - val_acc: 0.0320\n",
      "Epoch 4/100\n",
      "22667/22667 [==============================] - 4s - loss: -48.7072 - acc: 0.0340 - val_loss: -49.0509 - val_acc: 0.0430\n",
      "Epoch 5/100\n",
      "22667/22667 [==============================] - 4s - loss: -50.5351 - acc: 0.0434 - val_loss: -51.4600 - val_acc: 0.0517\n",
      "Epoch 6/100\n",
      "22667/22667 [==============================] - 4s - loss: -52.1692 - acc: 0.0507 - val_loss: -52.2314 - val_acc: 0.0570\n",
      "Epoch 7/100\n",
      "22667/22667 [==============================] - 4s - loss: -53.5487 - acc: 0.0566 - val_loss: -53.6521 - val_acc: 0.0740\n",
      "Epoch 8/100\n",
      "22667/22667 [==============================] - 4s - loss: -54.6533 - acc: 0.0618 - val_loss: -54.8030 - val_acc: 0.0710\n",
      "Epoch 9/100\n",
      "22667/22667 [==============================] - 4s - loss: -55.6092 - acc: 0.0679 - val_loss: -55.4349 - val_acc: 0.0727\n",
      "Epoch 10/100\n",
      "22667/22667 [==============================] - 4s - loss: -56.4307 - acc: 0.0704 - val_loss: -55.9048 - val_acc: 0.0777\n",
      "Epoch 11/100\n",
      "22667/22667 [==============================] - 4s - loss: -57.1049 - acc: 0.0708 - val_loss: -56.5629 - val_acc: 0.0807\n",
      "Epoch 12/100\n",
      "22667/22667 [==============================] - 4s - loss: -57.7298 - acc: 0.0744 - val_loss: -57.2555 - val_acc: 0.0835\n",
      "Epoch 13/100\n",
      "22667/22667 [==============================] - 4s - loss: -58.2348 - acc: 0.0765 - val_loss: -57.6387 - val_acc: 0.0865\n",
      "Epoch 14/100\n",
      "22667/22667 [==============================] - 4s - loss: -58.7455 - acc: 0.0782 - val_loss: -58.0241 - val_acc: 0.0832\n",
      "Epoch 15/100\n",
      "22667/22667 [==============================] - 4s - loss: -59.2032 - acc: 0.0818 - val_loss: -58.1036 - val_acc: 0.0835\n",
      "Epoch 16/100\n",
      "22667/22667 [==============================] - 4s - loss: -59.6576 - acc: 0.0804 - val_loss: -58.7433 - val_acc: 0.0840\n",
      "Epoch 17/100\n",
      "22667/22667 [==============================] - 4s - loss: -59.9639 - acc: 0.0820 - val_loss: -59.1469 - val_acc: 0.0925\n",
      "Epoch 18/100\n",
      "22667/22667 [==============================] - 4s - loss: -60.3839 - acc: 0.0865 - val_loss: -59.2943 - val_acc: 0.0902\n",
      "Epoch 19/100\n",
      "22667/22667 [==============================] - 4s - loss: -60.6806 - acc: 0.0867 - val_loss: -59.6567 - val_acc: 0.0930\n",
      "Epoch 20/100\n",
      "22667/22667 [==============================] - 4s - loss: -60.9928 - acc: 0.0916 - val_loss: -59.7756 - val_acc: 0.0967\n",
      "Epoch 21/100\n",
      "22667/22667 [==============================] - 4s - loss: -61.2712 - acc: 0.0918 - val_loss: -59.9233 - val_acc: 0.1062\n",
      "Epoch 22/100\n",
      "22667/22667 [==============================] - 4s - loss: -61.5438 - acc: 0.0909 - val_loss: -60.2286 - val_acc: 0.0980\n",
      "Epoch 23/100\n",
      "22667/22667 [==============================] - 4s - loss: -61.7705 - acc: 0.0929 - val_loss: -60.5150 - val_acc: 0.1027\n",
      "Epoch 24/100\n",
      "22667/22667 [==============================] - 4s - loss: -62.0397 - acc: 0.0943 - val_loss: -60.6105 - val_acc: 0.0972\n",
      "Epoch 25/100\n",
      "22667/22667 [==============================] - 4s - loss: -62.2397 - acc: 0.0939 - val_loss: -60.6808 - val_acc: 0.0940\n",
      "Epoch 26/100\n",
      "22667/22667 [==============================] - 4s - loss: -62.4522 - acc: 0.0944 - val_loss: -61.0970 - val_acc: 0.1002\n",
      "Epoch 27/100\n",
      "22667/22667 [==============================] - 4s - loss: -62.6633 - acc: 0.0971 - val_loss: -61.1976 - val_acc: 0.1022\n",
      "Epoch 28/100\n",
      "22667/22667 [==============================] - 4s - loss: -62.8452 - acc: 0.0966 - val_loss: -61.2066 - val_acc: 0.0975\n",
      "Epoch 29/100\n",
      "22667/22667 [==============================] - 4s - loss: -63.0407 - acc: 0.0980 - val_loss: -61.3338 - val_acc: 0.0955\n",
      "Epoch 30/100\n",
      "22667/22667 [==============================] - 4s - loss: -63.1806 - acc: 0.0977 - val_loss: -61.5945 - val_acc: 0.1057\n",
      "Epoch 31/100\n",
      "22667/22667 [==============================] - 4s - loss: -63.3620 - acc: 0.0967 - val_loss: -61.5005 - val_acc: 0.1060\n",
      "Epoch 32/100\n",
      "22667/22667 [==============================] - 4s - loss: -63.5122 - acc: 0.0996 - val_loss: -61.8948 - val_acc: 0.1037\n",
      "Epoch 33/100\n",
      "22667/22667 [==============================] - 4s - loss: -63.7011 - acc: 0.0983 - val_loss: -62.0230 - val_acc: 0.1015\n",
      "Epoch 34/100\n",
      "22667/22667 [==============================] - 4s - loss: -63.8225 - acc: 0.0991 - val_loss: -61.9425 - val_acc: 0.0990\n",
      "Epoch 35/100\n",
      "22667/22667 [==============================] - 4s - loss: -63.9551 - acc: 0.1004 - val_loss: -62.1409 - val_acc: 0.1057\n",
      "Epoch 36/100\n",
      "22667/22667 [==============================] - 4s - loss: -64.0982 - acc: 0.0992 - val_loss: -62.2879 - val_acc: 0.1030\n",
      "Epoch 37/100\n",
      "22667/22667 [==============================] - 4s - loss: -64.2109 - acc: 0.1002 - val_loss: -62.4704 - val_acc: 0.1037\n",
      "Epoch 38/100\n",
      "22667/22667 [==============================] - 4s - loss: -64.3285 - acc: 0.1015 - val_loss: -62.3998 - val_acc: 0.1010\n",
      "Epoch 39/100\n",
      "22667/22667 [==============================] - 4s - loss: -64.4739 - acc: 0.1026 - val_loss: -62.4339 - val_acc: 0.1067\n",
      "Epoch 40/100\n",
      "22667/22667 [==============================] - 4s - loss: -64.5270 - acc: 0.1010 - val_loss: -62.3492 - val_acc: 0.0980\n",
      "Epoch 41/100\n",
      "22667/22667 [==============================] - 4s - loss: -64.7023 - acc: 0.0978 - val_loss: -62.5534 - val_acc: 0.1032\n",
      "Epoch 42/100\n",
      "22667/22667 [==============================] - 4s - loss: -64.7674 - acc: 0.1020 - val_loss: -62.6426 - val_acc: 0.1025\n",
      "Epoch 43/100\n",
      "22667/22667 [==============================] - 4s - loss: -64.9284 - acc: 0.1015 - val_loss: -62.7782 - val_acc: 0.1040\n",
      "Epoch 44/100\n",
      "22667/22667 [==============================] - 4s - loss: -64.9479 - acc: 0.1019 - val_loss: -62.9392 - val_acc: 0.1035\n",
      "Epoch 45/100\n",
      "22667/22667 [==============================] - 4s - loss: -65.0409 - acc: 0.1027 - val_loss: -63.0616 - val_acc: 0.0960\n",
      "Epoch 46/100\n",
      "22667/22667 [==============================] - 4s - loss: -65.1869 - acc: 0.1031 - val_loss: -63.1881 - val_acc: 0.1020\n",
      "Epoch 47/100\n",
      "22667/22667 [==============================] - 4s - loss: -65.1816 - acc: 0.1023 - val_loss: -63.3423 - val_acc: 0.0992\n",
      "Epoch 48/100\n",
      "22667/22667 [==============================] - 4s - loss: -65.3338 - acc: 0.1014 - val_loss: -63.0392 - val_acc: 0.0987\n",
      "Epoch 49/100\n",
      "22667/22667 [==============================] - 4s - loss: -65.4120 - acc: 0.1028 - val_loss: -63.2861 - val_acc: 0.1032\n",
      "Epoch 50/100\n",
      "22667/22667 [==============================] - 4s - loss: -65.4166 - acc: 0.1044 - val_loss: -63.4268 - val_acc: 0.1035\n",
      "Epoch 51/100\n",
      "22667/22667 [==============================] - 4s - loss: -65.5483 - acc: 0.1022 - val_loss: -63.4346 - val_acc: 0.0985\n",
      "Epoch 52/100\n",
      "22667/22667 [==============================] - 4s - loss: -65.5770 - acc: 0.1012 - val_loss: -63.4701 - val_acc: 0.0980\n",
      "Epoch 53/100\n",
      "22667/22667 [==============================] - 4s - loss: -65.7080 - acc: 0.1034 - val_loss: -63.5920 - val_acc: 0.0972\n",
      "Epoch 54/100\n",
      "22667/22667 [==============================] - 4s - loss: -65.7211 - acc: 0.1028 - val_loss: -63.6958 - val_acc: 0.1017\n",
      "Epoch 55/100\n",
      "22667/22667 [==============================] - 4s - loss: -65.7780 - acc: 0.1033 - val_loss: -63.5408 - val_acc: 0.1055\n",
      "Epoch 56/100\n",
      "22667/22667 [==============================] - 4s - loss: -65.8452 - acc: 0.1044 - val_loss: -63.5361 - val_acc: 0.1042\n",
      "Epoch 57/100\n",
      "22667/22667 [==============================] - 4s - loss: -65.9212 - acc: 0.1029 - val_loss: -63.7107 - val_acc: 0.1005\n",
      "Epoch 58/100\n",
      "22667/22667 [==============================] - 4s - loss: -65.9608 - acc: 0.1012 - val_loss: -63.9909 - val_acc: 0.1002\n",
      "Epoch 59/100\n",
      "22667/22667 [==============================] - 4s - loss: -66.0851 - acc: 0.1012 - val_loss: -63.8358 - val_acc: 0.1030\n",
      "Epoch 60/100\n",
      "22667/22667 [==============================] - 4s - loss: -66.0538 - acc: 0.1033 - val_loss: -63.7727 - val_acc: 0.1012\n",
      "Epoch 61/100\n",
      "22667/22667 [==============================] - 4s - loss: -66.1439 - acc: 0.1036 - val_loss: -63.7006 - val_acc: 0.1005\n",
      "Epoch 62/100\n",
      "22667/22667 [==============================] - 4s - loss: -66.1639 - acc: 0.1031 - val_loss: -63.9622 - val_acc: 0.1022\n",
      "Epoch 63/100\n",
      "22667/22667 [==============================] - 4s - loss: -66.2437 - acc: 0.1037 - val_loss: -64.0841 - val_acc: 0.1012\n",
      "Epoch 64/100\n",
      "22667/22667 [==============================] - 4s - loss: -66.2444 - acc: 0.1027 - val_loss: -63.8902 - val_acc: 0.0945\n",
      "Epoch 65/100\n",
      "22667/22667 [==============================] - 4s - loss: -66.3008 - acc: 0.1029 - val_loss: -64.1587 - val_acc: 0.1002\n",
      "Epoch 66/100\n",
      "22667/22667 [==============================] - 4s - loss: -66.4151 - acc: 0.1022 - val_loss: -64.0304 - val_acc: 0.1002\n",
      "Epoch 67/100\n",
      "22667/22667 [==============================] - 4s - loss: -66.3409 - acc: 0.1012 - val_loss: -64.1776 - val_acc: 0.0982\n",
      "Epoch 68/100\n",
      "22667/22667 [==============================] - 4s - loss: -66.4524 - acc: 0.1012 - val_loss: -64.5146 - val_acc: 0.1045\n",
      "Epoch 69/100\n",
      "22667/22667 [==============================] - 4s - loss: -66.5645 - acc: 0.1021 - val_loss: -64.2043 - val_acc: 0.0927\n",
      "Epoch 70/100\n",
      "22667/22667 [==============================] - 4s - loss: -66.5057 - acc: 0.1022 - val_loss: -64.3808 - val_acc: 0.0945\n",
      "Epoch 71/100\n",
      "22667/22667 [==============================] - 4s - loss: -66.6546 - acc: 0.1010 - val_loss: -64.2137 - val_acc: 0.0947\n",
      "Epoch 72/100\n",
      "22667/22667 [==============================] - 4s - loss: -66.6203 - acc: 0.1006 - val_loss: -64.4022 - val_acc: 0.1020\n",
      "Epoch 73/100\n",
      "22667/22667 [==============================] - 4s - loss: -66.6864 - acc: 0.1031 - val_loss: -64.3345 - val_acc: 0.1015\n",
      "Epoch 74/100\n",
      "22667/22667 [==============================] - 4s - loss: -66.6591 - acc: 0.1012 - val_loss: -64.3344 - val_acc: 0.1000\n",
      "Epoch 75/100\n",
      "22667/22667 [==============================] - 4s - loss: -66.8434 - acc: 0.1016 - val_loss: -63.8311 - val_acc: 0.0927\n",
      "Epoch 76/100\n",
      "22667/22667 [==============================] - 4s - loss: -66.7074 - acc: 0.0997 - val_loss: -64.6832 - val_acc: 0.1000\n",
      "Epoch 77/100\n",
      "22667/22667 [==============================] - 4s - loss: -66.7718 - acc: 0.1000 - val_loss: -64.3453 - val_acc: 0.0965\n",
      "Epoch 78/100\n",
      "22667/22667 [==============================] - 4s - loss: -66.9367 - acc: 0.1004 - val_loss: -64.1038 - val_acc: 0.0972\n",
      "Epoch 79/100\n",
      "22667/22667 [==============================] - 4s - loss: -66.8675 - acc: 0.1005 - val_loss: -64.7596 - val_acc: 0.0970\n",
      "Epoch 80/100\n",
      "22667/22667 [==============================] - 4s - loss: -66.7792 - acc: 0.0984 - val_loss: -64.7445 - val_acc: 0.0990\n",
      "Epoch 81/100\n",
      "22667/22667 [==============================] - 4s - loss: -67.0115 - acc: 0.1003 - val_loss: -64.6800 - val_acc: 0.0970\n",
      "Epoch 82/100\n",
      "22667/22667 [==============================] - 4s - loss: -66.9204 - acc: 0.0997 - val_loss: -64.2694 - val_acc: 0.0997\n",
      "Epoch 83/100\n",
      "22667/22667 [==============================] - 4s - loss: -67.1246 - acc: 0.1017 - val_loss: -64.4628 - val_acc: 0.1027\n",
      "Epoch 84/100\n",
      "22667/22667 [==============================] - 4s - loss: -66.8673 - acc: 0.1025 - val_loss: -64.7469 - val_acc: 0.1032\n",
      "Epoch 85/100\n",
      "22667/22667 [==============================] - 4s - loss: -67.1457 - acc: 0.1008 - val_loss: -64.8218 - val_acc: 0.0955\n",
      "Epoch 86/100\n",
      "22667/22667 [==============================] - 4s - loss: -66.9285 - acc: 0.0989 - val_loss: -64.7226 - val_acc: 0.0972\n",
      "Epoch 87/100\n",
      "22667/22667 [==============================] - 4s - loss: -67.2122 - acc: 0.1019 - val_loss: -64.5995 - val_acc: 0.0982\n",
      "Epoch 88/100\n",
      "22667/22667 [==============================] - 4s - loss: -66.9529 - acc: 0.0993 - val_loss: -64.6717 - val_acc: 0.1017\n",
      "Epoch 89/100\n",
      "22667/22667 [==============================] - 4s - loss: -67.3057 - acc: 0.1009 - val_loss: -64.7190 - val_acc: 0.0970\n",
      "Epoch 90/100\n",
      "22667/22667 [==============================] - 4s - loss: -66.9671 - acc: 0.0993 - val_loss: -64.8249 - val_acc: 0.1022\n",
      "Epoch 91/100\n",
      "22667/22667 [==============================] - 4s - loss: -67.3485 - acc: 0.0998 - val_loss: -64.6496 - val_acc: 0.0977\n",
      "Epoch 92/100\n",
      "22667/22667 [==============================] - 4s - loss: -67.2097 - acc: 0.0999 - val_loss: -65.3331 - val_acc: 0.1025\n",
      "Epoch 93/100\n",
      "22667/22667 [==============================] - 4s - loss: -67.1101 - acc: 0.0995 - val_loss: -65.2124 - val_acc: 0.1007\n",
      "Epoch 94/100\n",
      "22667/22667 [==============================] - 4s - loss: -67.3391 - acc: 0.0993 - val_loss: -64.6189 - val_acc: 0.1002\n",
      "Epoch 95/100\n",
      "22667/22667 [==============================] - 4s - loss: -67.2782 - acc: 0.1012 - val_loss: -64.8742 - val_acc: 0.0977\n",
      "Epoch 96/100\n",
      "22667/22667 [==============================] - 4s - loss: -67.4524 - acc: 0.0991 - val_loss: -65.4175 - val_acc: 0.0975\n",
      "Epoch 97/100\n",
      "22667/22667 [==============================] - 4s - loss: -67.0713 - acc: 0.0992 - val_loss: -64.9956 - val_acc: 0.0972\n",
      "Epoch 98/100\n",
      "22667/22667 [==============================] - 4s - loss: -67.5108 - acc: 0.0992 - val_loss: -64.6958 - val_acc: 0.0925\n",
      "Epoch 99/100\n",
      "22667/22667 [==============================] - 4s - loss: -67.2407 - acc: 0.0987 - val_loss: -65.5345 - val_acc: 0.1005\n",
      "Epoch 100/100\n",
      "22667/22667 [==============================] - 4s - loss: -67.2837 - acc: 0.0992 - val_loss: -64.7979 - val_acc: 0.0957\n"
     ]
    },
    {
     "data": {
      "text/plain": [
       "<keras.callbacks.History at 0x7fdc0ec8fe90>"
      ]
     },
     "execution_count": 14,
     "metadata": {},
     "output_type": "execute_result"
    }
   ],
   "source": [
    "input_img = Input(shape=(3584,))\n",
    "encoded = Dense(2048, activation='relu')(input_img)\n",
    "encoded = Dense(1024, activation='relu')(encoded)\n",
    "encoded = Dense(512, activation='relu')(encoded)\n",
    "\n",
    "decoded = Dense(1024, activation='relu')(encoded)\n",
    "decoded = Dense(2048, activation='relu')(decoded)\n",
    "decoded = Dense(3584, activation='sigmoid')(decoded)\n",
    "\n",
    "autoencoder = Model(input=input_img, output=decoded)\n",
    "autoencoder.compile(optimizer='adadelta', loss='binary_crossentropy', metrics=['accuracy'])\n",
    "\n",
    "autoencoder.fit(X_train, X_train,\n",
    "                nb_epoch=100,\n",
    "                batch_size=256,\n",
    "                shuffle=True,\n",
    "                validation_data=(X_test, X_test))"
   ]
  },
  {
   "cell_type": "code",
   "execution_count": null,
   "metadata": {
    "collapsed": true
   },
   "outputs": [],
   "source": []
  }
 ],
 "metadata": {
  "kernelspec": {
   "display_name": "Python 2",
   "language": "python",
   "name": "python2"
  },
  "language_info": {
   "codemirror_mode": {
    "name": "ipython",
    "version": 2
   },
   "file_extension": ".py",
   "mimetype": "text/x-python",
   "name": "python",
   "nbconvert_exporter": "python",
   "pygments_lexer": "ipython2",
   "version": "2.7.6"
  }
 },
 "nbformat": 4,
 "nbformat_minor": 0
}
