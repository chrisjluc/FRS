{
 "cells": [
  {
   "cell_type": "markdown",
   "metadata": {},
   "source": [
    "<h1>Binary VGG Convnet</h1>\n",
    "\n",
    "<strong>Abstract</strong> Attempt to classify among 2 different faces. Currently, classifying all images as one person. Shows we need more layers."
   ]
  },
  {
   "cell_type": "code",
   "execution_count": 4,
   "metadata": {
    "collapsed": true
   },
   "outputs": [],
   "source": [
    "%load_ext autoreload"
   ]
  },
  {
   "cell_type": "code",
   "execution_count": 5,
   "metadata": {
    "collapsed": false
   },
   "outputs": [],
   "source": [
    "%autoreload 2\n",
    "%matplotlib inline\n",
    "\n",
    "import os\n",
    "import fnmatch\n",
    "import numpy as np\n",
    "from skimage import io\n",
    "from skimage.transform import resize\n",
    "from sklearn.metrics import confusion_matrix\n",
    "\n",
    "from keras.preprocessing.image import ImageDataGenerator\n",
    "from keras.models import Sequential\n",
    "from keras.layers.core import Dense, Dropout, Activation, Flatten\n",
    "from keras.layers.convolutional import Convolution2D, MaxPooling2D\n",
    "from keras.utils import np_utils\n",
    "\n",
    "np.random.seed(123456)"
   ]
  },
  {
   "cell_type": "code",
   "execution_count": 24,
   "metadata": {
    "collapsed": true
   },
   "outputs": [],
   "source": [
    "data_path = '../data/'\n",
    "data_lfw_path = data_path + 'lfw_cropped/'\n",
    "\n",
    "class1 = 'George_W_Bush'\n",
    "class2 = 'Colin_Powell'\n",
    "\n",
    "batch_size = 64\n",
    "nb_epoch = 12\n",
    "img_rows, img_cols = 100, 100\n",
    "test_size_percent = .85\n",
    "validation_split = .1\n",
    "random_discard_percent = 0"
   ]
  },
  {
   "cell_type": "code",
   "execution_count": 25,
   "metadata": {
    "collapsed": false
   },
   "outputs": [],
   "source": [
    "def get_filenames_separated_from_target(class1, class2):\n",
    "    class1_files = []\n",
    "    class2_files = []\n",
    "    \n",
    "    for root, dirnames, filenames in os.walk(data_lfw_path):\n",
    "        for dirname in dirnames:\n",
    "                for filename in os.listdir(os.path.join(data_lfw_path, dirname)):\n",
    "                    if filename.endswith(\".jpg\"):\n",
    "                        f = os.path.join(root + dirname, filename)\n",
    "                        if dirname == class1:\n",
    "                            class1_files.append(f)\n",
    "                        elif dirname == class2:\n",
    "                            class2_files.append(f)\n",
    "    return class1_files, class2_files"
   ]
  },
  {
   "cell_type": "code",
   "execution_count": 26,
   "metadata": {
    "collapsed": true
   },
   "outputs": [],
   "source": [
    "def image_read(f):\n",
    "    return resize(io.imread(f), (img_rows, img_cols))"
   ]
  },
  {
   "cell_type": "code",
   "execution_count": 27,
   "metadata": {
    "collapsed": true
   },
   "outputs": [],
   "source": [
    "def get_train_and_test_sets(class1_data, class2_data):\n",
    "    \n",
    "    all_data = [(t, 1) for t in class1_data] + [(t, 0) for t in class2_data]\n",
    "\n",
    "    np.random.shuffle(all_data)\n",
    "    \n",
    "    test_size = int(test_size_percent * len(all_data))\n",
    "    X_train = np.array([x[0] for x in all_data[:test_size]])\n",
    "    y_train = np.array([x[1] for x in all_data[:test_size]])\n",
    "    X_test = np.array([x[0] for x in all_data[test_size:]])  \n",
    "    y_test = np.array([x[1] for x in all_data[test_size:]])\n",
    "    \n",
    "    X_train = X_train.reshape(X_train.shape[0], 3, img_rows, img_cols)\n",
    "    X_test = X_test.reshape(X_test.shape[0], 3, img_rows, img_cols)\n",
    "    X_train = X_train.astype('float32')\n",
    "    X_test = X_test.astype('float32')\n",
    "    X_train /= 255\n",
    "    X_test /= 255\n",
    "\n",
    "    return (X_train, y_train), (X_test, y_test)"
   ]
  },
  {
   "cell_type": "code",
   "execution_count": 28,
   "metadata": {
    "collapsed": true
   },
   "outputs": [],
   "source": [
    "class1_files, class2_files = get_filenames_separated_from_target(class1, class2)"
   ]
  },
  {
   "cell_type": "code",
   "execution_count": 29,
   "metadata": {
    "collapsed": true
   },
   "outputs": [],
   "source": [
    "class1_images = [image_read(f) for f in class1_files]\n",
    "class2_images = [image_read(f) for f in class2_files]"
   ]
  },
  {
   "cell_type": "code",
   "execution_count": 30,
   "metadata": {
    "collapsed": true
   },
   "outputs": [],
   "source": [
    "(X_train, y_train), (X_test, y_test) = get_train_and_test_sets(class1_images, class2_images)"
   ]
  },
  {
   "cell_type": "code",
   "execution_count": 31,
   "metadata": {
    "collapsed": false
   },
   "outputs": [
    {
     "name": "stdout",
     "output_type": "stream",
     "text": [
      "Train on 585 samples, validate on 65 samples\n",
      "Epoch 1/12\n",
      "585/585 [==============================] - 290s - loss: 0.6726 - acc: 0.6274 - val_loss: 0.6401 - val_acc: 0.7385\n",
      "Epoch 2/12\n",
      "585/585 [==============================] - 279s - loss: 0.6475 - acc: 0.6803 - val_loss: 0.6376 - val_acc: 0.7385\n",
      "Epoch 3/12\n",
      "585/585 [==============================] - 278s - loss: 0.6357 - acc: 0.6803 - val_loss: 0.5738 - val_acc: 0.7385\n",
      "Epoch 4/12\n",
      "585/585 [==============================] - 278s - loss: 0.6408 - acc: 0.6803 - val_loss: 0.5747 - val_acc: 0.7385\n",
      "Epoch 5/12\n",
      "585/585 [==============================] - 278s - loss: 0.6431 - acc: 0.6803 - val_loss: 0.5768 - val_acc: 0.7385\n",
      "Epoch 6/12\n",
      "585/585 [==============================] - 276s - loss: 0.6381 - acc: 0.6803 - val_loss: 0.6232 - val_acc: 0.7385\n",
      "Epoch 7/12\n",
      "585/585 [==============================] - 276s - loss: 0.6360 - acc: 0.6803 - val_loss: 0.5750 - val_acc: 0.7385\n",
      "Epoch 8/12\n",
      "585/585 [==============================] - 274s - loss: 0.6392 - acc: 0.6803 - val_loss: 0.5797 - val_acc: 0.7385\n",
      "Epoch 9/12\n",
      "585/585 [==============================] - 274s - loss: 0.6353 - acc: 0.6803 - val_loss: 0.6305 - val_acc: 0.7385\n",
      "Epoch 10/12\n",
      "585/585 [==============================] - 274s - loss: 0.6396 - acc: 0.6803 - val_loss: 0.6095 - val_acc: 0.7385\n",
      "Epoch 11/12\n",
      "585/585 [==============================] - 274s - loss: 0.6330 - acc: 0.6803 - val_loss: 0.6182 - val_acc: 0.7385\n",
      "Epoch 12/12\n",
      "585/585 [==============================] - 274s - loss: 0.6276 - acc: 0.6803 - val_loss: 0.5855 - val_acc: 0.7385\n"
     ]
    },
    {
     "data": {
      "text/plain": [
       "<keras.callbacks.History at 0x107d04050>"
      ]
     },
     "execution_count": 31,
     "metadata": {},
     "output_type": "execute_result"
    }
   ],
   "source": [
    "VGG = Sequential()\n",
    "\n",
    "VGG.add(Convolution2D(32, 3, 3, input_shape=(3, img_rows, img_cols)))\n",
    "VGG.add(Activation('relu'))\n",
    "VGG.add(Convolution2D(32, 3, 3))\n",
    "VGG.add(Activation('relu'))\n",
    "VGG.add(MaxPooling2D(pool_size=(2, 2)))\n",
    "VGG.add(Dropout(0.25))\n",
    "\n",
    "VGG.add(Convolution2D(64, 3, 3))\n",
    "VGG.add(Activation('relu'))\n",
    "VGG.add(Convolution2D(64, 3, 3))\n",
    "VGG.add(Activation('relu'))\n",
    "VGG.add(MaxPooling2D(pool_size=(2, 2)))\n",
    "VGG.add(Dropout(0.25))\n",
    "\n",
    "VGG.add(Flatten())\n",
    "\n",
    "VGG.add(Dense(256))\n",
    "VGG.add(Activation('relu'))\n",
    "VGG.add(Dropout(0.5))\n",
    "\n",
    "VGG.add(Dense(1))\n",
    "VGG.add(Activation('sigmoid'))\n",
    "\n",
    "VGG.compile(loss='binary_crossentropy',\n",
    "              optimizer='rmsprop',\n",
    "              class_mode='binary')\n",
    "\n",
    "VGG.fit(X_train, y_train, batch_size=batch_size, nb_epoch=nb_epoch, \n",
    "        show_accuracy=True, verbose=1, validation_split=validation_split)"
   ]
  },
  {
   "cell_type": "code",
   "execution_count": 32,
   "metadata": {
    "collapsed": false
   },
   "outputs": [
    {
     "name": "stdout",
     "output_type": "stream",
     "text": [
      "115/115 [==============================] - 11s\n",
      "('Test score:', 0.60910201072692871)\n",
      "('Test accuracy:', 0.72173913043478266)\n"
     ]
    }
   ],
   "source": [
    "score = VGG.evaluate(X_test, y_test, show_accuracy=True, verbose=1)\n",
    "print('Test score:', score[0])\n",
    "print('Test accuracy:', score[1])"
   ]
  },
  {
   "cell_type": "code",
   "execution_count": 33,
   "metadata": {
    "collapsed": false
   },
   "outputs": [
    {
     "name": "stdout",
     "output_type": "stream",
     "text": [
      "115/115 [==============================] - 11s\n"
     ]
    }
   ],
   "source": [
    "y_pred = VGG.predict_classes(X_test)"
   ]
  },
  {
   "cell_type": "code",
   "execution_count": 34,
   "metadata": {
    "collapsed": false
   },
   "outputs": [
    {
     "data": {
      "text/plain": [
       "array([[ 0, 32],\n",
       "       [ 0, 83]])"
      ]
     },
     "execution_count": 34,
     "metadata": {},
     "output_type": "execute_result"
    }
   ],
   "source": [
    "confusion_matrix(y_test, y_pred)"
   ]
  }
 ],
 "metadata": {
  "kernelspec": {
   "display_name": "Python 2",
   "language": "python",
   "name": "python2"
  },
  "language_info": {
   "codemirror_mode": {
    "name": "ipython",
    "version": 2
   },
   "file_extension": ".py",
   "mimetype": "text/x-python",
   "name": "python",
   "nbconvert_exporter": "python",
   "pygments_lexer": "ipython2",
   "version": "2.7.11"
  }
 },
 "nbformat": 4,
 "nbformat_minor": 0
}
