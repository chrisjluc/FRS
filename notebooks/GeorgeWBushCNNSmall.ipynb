{
 "cells": [
  {
   "cell_type": "markdown",
   "metadata": {},
   "source": [
    "<h1>George W Bush CNN Small</h1>\n",
    "\n",
    "<strong>Abstract</strong> We will throw 95% of the other images away, so their are roughly the same number of George W Bush images and non George W Bush images. CNN classifies all images as non-George W Bush, probably because their are slightly more non-George W Bush images. Signifies, we need more layers and not identifying faces properly.\n",
    "\n",
    "<strong>Purpose</strong> Build a CNN trained to identify George W Bush. He was chosen because of his high number of images, we would like to see how a CNN with a lot of images of a single person performs. George W Bush has 529 images and there are about 5,748 other people with a total of 12,643 images.\n",
    "\n",
    "\n",
    "\n"
   ]
  },
  {
   "cell_type": "code",
   "execution_count": 1,
   "metadata": {
    "collapsed": true
   },
   "outputs": [],
   "source": [
    "%load_ext autoreload"
   ]
  },
  {
   "cell_type": "code",
   "execution_count": 2,
   "metadata": {
    "collapsed": false
   },
   "outputs": [
    {
     "name": "stderr",
     "output_type": "stream",
     "text": [
      "Using Theano backend.\n",
      "/usr/local/lib/python2.7/site-packages/theano/tensor/signal/downsample.py:5: UserWarning: downsample module has been moved to the pool module.\n",
      "  warnings.warn(\"downsample module has been moved to the pool module.\")\n"
     ]
    }
   ],
   "source": [
    "%autoreload 2\n",
    "%matplotlib inline\n",
    "\n",
    "import os\n",
    "import fnmatch\n",
    "import matplotlib.pyplot as plt\n",
    "import numpy as np\n",
    "from skimage import io\n",
    "from skimage.transform import resize\n",
    "from sklearn.metrics import confusion_matrix\n",
    "\n",
    "from keras.preprocessing.image import ImageDataGenerator\n",
    "from keras.models import Sequential\n",
    "from keras.layers.core import Dense, Dropout, Activation, Flatten\n",
    "from keras.layers.convolutional import Convolution2D, MaxPooling2D\n",
    "from keras.utils import np_utils\n",
    "\n",
    "plt.rcParams['figure.figsize'] = (12.0, 10.0)\n",
    "np.random.seed(123456)"
   ]
  },
  {
   "cell_type": "code",
   "execution_count": 10,
   "metadata": {
    "collapsed": false
   },
   "outputs": [],
   "source": [
    "data_path = '../data/'\n",
    "data_lfw_path = data_path + 'lfw_cropped/'\n",
    "\n",
    "batch_size = 128\n",
    "nb_epoch = 12\n",
    "img_rows, img_cols = 100, 100\n",
    "test_size_percent = .8\n",
    "validation_split = .2\n",
    "random_discard_percent = .95"
   ]
  },
  {
   "cell_type": "markdown",
   "metadata": {},
   "source": [
    "<h2>Preparing Data</h2>"
   ]
  },
  {
   "cell_type": "code",
   "execution_count": 11,
   "metadata": {
    "collapsed": true
   },
   "outputs": [],
   "source": [
    "def get_filenames_separated_from_target(target):\n",
    "    files = []\n",
    "    target_files = []\n",
    "    \n",
    "    for root, dirnames, filenames in os.walk(data_lfw_path):\n",
    "        for dirname in dirnames:\n",
    "                for filename in os.listdir(os.path.join(data_lfw_path, dirname)):\n",
    "                    if filename.endswith(\".jpg\"):\n",
    "                        f = os.path.join(root + dirname, filename)\n",
    "                        if dirname == target:\n",
    "                            target_files.append(f)\n",
    "                        else:\n",
    "                            files.append(f)\n",
    "    return target_files, files"
   ]
  },
  {
   "cell_type": "code",
   "execution_count": 12,
   "metadata": {
    "collapsed": true
   },
   "outputs": [],
   "source": [
    "def get_train_and_test_sets(target_data, data):\n",
    "    data_to_keep = int((1 - random_discard_percent) * len(data))\n",
    "    np.random.shuffle(data)\n",
    "    \n",
    "    all_data = [(t, 1) for t in target_data] + [(t, 0) for t in data[:data_to_keep]]\n",
    "    np.random.shuffle(all_data)\n",
    "    \n",
    "    test_size = int(test_size_percent * len(all_data))\n",
    "    X_train = np.array([x[0] for x in all_data[:test_size]])\n",
    "    y_train = np.array([x[1] for x in all_data[:test_size]])\n",
    "    X_test = np.array([x[0] for x in all_data[test_size:]])  \n",
    "    y_test = np.array([x[1] for x in all_data[test_size:]])\n",
    "    \n",
    "    X_train = X_train.reshape(X_train.shape[0], 3, img_rows, img_cols)\n",
    "    X_test = X_test.reshape(X_test.shape[0], 3, img_rows, img_cols)\n",
    "    X_train = X_train.astype('float32')\n",
    "    X_test = X_test.astype('float32')\n",
    "    X_train /= 255\n",
    "    X_test /= 255\n",
    "\n",
    "    return (X_train, y_train), (X_test, y_test)\n",
    "    "
   ]
  },
  {
   "cell_type": "code",
   "execution_count": 13,
   "metadata": {
    "collapsed": true
   },
   "outputs": [],
   "source": [
    "def image_read(f):\n",
    "    return resize(io.imread(f), (img_rows, img_cols))"
   ]
  },
  {
   "cell_type": "code",
   "execution_count": 14,
   "metadata": {
    "collapsed": false
   },
   "outputs": [],
   "source": [
    "target_files, files = get_filenames_separated_from_target('George_W_Bush')"
   ]
  },
  {
   "cell_type": "code",
   "execution_count": 15,
   "metadata": {
    "collapsed": false
   },
   "outputs": [],
   "source": [
    "images = [image_read(f) for f in files]\n",
    "target_images = [image_read(f) for f in target_files]"
   ]
  },
  {
   "cell_type": "code",
   "execution_count": 16,
   "metadata": {
    "collapsed": false
   },
   "outputs": [],
   "source": [
    "(X_train, y_train), (X_test, y_test) = get_train_and_test_sets(target_images, images)"
   ]
  },
  {
   "cell_type": "markdown",
   "metadata": {},
   "source": [
    "<h2>Training and Testing the CNN</h2>\n",
    "\n",
    "Implementation of VGG-like convnet http://keras.io/examples/"
   ]
  },
  {
   "cell_type": "code",
   "execution_count": 19,
   "metadata": {
    "collapsed": false
   },
   "outputs": [
    {
     "name": "stdout",
     "output_type": "stream",
     "text": [
      "Train on 742 samples, validate on 186 samples\n",
      "Epoch 1/12\n",
      "742/742 [==============================] - 366s - loss: 0.6907 - acc: 0.5000 - val_loss: 0.7089 - val_acc: 0.5108\n",
      "Epoch 2/12\n",
      "742/742 [==============================] - 364s - loss: 0.6976 - acc: 0.5337 - val_loss: 0.6943 - val_acc: 0.5108\n",
      "Epoch 3/12\n",
      "742/742 [==============================] - 364s - loss: 0.6885 - acc: 0.5539 - val_loss: 0.6938 - val_acc: 0.5108\n",
      "Epoch 4/12\n",
      "742/742 [==============================] - 362s - loss: 0.6897 - acc: 0.5539 - val_loss: 0.6933 - val_acc: 0.5108\n",
      "Epoch 5/12\n",
      "742/742 [==============================] - 360s - loss: 0.6890 - acc: 0.5539 - val_loss: 0.6957 - val_acc: 0.5108\n",
      "Epoch 6/12\n",
      "742/742 [==============================] - 358s - loss: 0.6891 - acc: 0.5539 - val_loss: 0.6937 - val_acc: 0.5108\n",
      "Epoch 7/12\n",
      "742/742 [==============================] - 358s - loss: 0.6875 - acc: 0.5539 - val_loss: 0.6977 - val_acc: 0.5108\n",
      "Epoch 8/12\n",
      "742/742 [==============================] - 358s - loss: 0.6881 - acc: 0.5539 - val_loss: 0.6958 - val_acc: 0.5108\n",
      "Epoch 9/12\n",
      "742/742 [==============================] - 358s - loss: 0.6882 - acc: 0.5539 - val_loss: 0.6960 - val_acc: 0.5108\n",
      "Epoch 10/12\n",
      "742/742 [==============================] - 358s - loss: 0.6874 - acc: 0.5539 - val_loss: 0.6951 - val_acc: 0.5108\n",
      "Epoch 11/12\n",
      "742/742 [==============================] - 358s - loss: 0.6884 - acc: 0.5539 - val_loss: 0.6953 - val_acc: 0.5108\n",
      "Epoch 12/12\n",
      "742/742 [==============================] - 358s - loss: 0.6889 - acc: 0.5539 - val_loss: 0.6940 - val_acc: 0.5108\n"
     ]
    },
    {
     "data": {
      "text/plain": [
       "<keras.callbacks.History at 0x11f74b0d0>"
      ]
     },
     "execution_count": 19,
     "metadata": {},
     "output_type": "execute_result"
    }
   ],
   "source": [
    "VGG = Sequential()\n",
    "\n",
    "VGG.add(Convolution2D(32, 3, 3, input_shape=(3, img_rows, img_cols)))\n",
    "VGG.add(Activation('relu'))\n",
    "VGG.add(Convolution2D(32, 3, 3))\n",
    "VGG.add(Activation('relu'))\n",
    "VGG.add(MaxPooling2D(pool_size=(2, 2)))\n",
    "VGG.add(Dropout(0.25))\n",
    "\n",
    "VGG.add(Convolution2D(64, 3, 3))\n",
    "VGG.add(Activation('relu'))\n",
    "VGG.add(Convolution2D(64, 3, 3))\n",
    "VGG.add(Activation('relu'))\n",
    "VGG.add(MaxPooling2D(pool_size=(2, 2)))\n",
    "VGG.add(Dropout(0.25))\n",
    "\n",
    "VGG.add(Flatten())\n",
    "\n",
    "VGG.add(Dense(256))\n",
    "VGG.add(Activation('relu'))\n",
    "VGG.add(Dropout(0.5))\n",
    "\n",
    "VGG.add(Dense(1))\n",
    "VGG.add(Activation('sigmoid'))\n",
    "\n",
    "VGG.compile(loss='binary_crossentropy',\n",
    "              optimizer='rmsprop',\n",
    "              class_mode='binary')\n",
    "\n",
    "VGG.fit(X_train, y_train, batch_size=batch_size, nb_epoch=nb_epoch, \n",
    "        show_accuracy=True, verbose=1, validation_split=validation_split)"
   ]
  },
  {
   "cell_type": "code",
   "execution_count": 20,
   "metadata": {
    "collapsed": false
   },
   "outputs": [
    {
     "name": "stdout",
     "output_type": "stream",
     "text": [
      "233/233 [==============================] - 22s     \n",
      "('Test score:', 0.68989973134748928)\n",
      "('Test accuracy:', 0.54077253218884125)\n"
     ]
    }
   ],
   "source": [
    "score = VGG.evaluate(X_test, y_test, show_accuracy=True, verbose=1)\n",
    "print('Test score:', score[0])\n",
    "print('Test accuracy:', score[1])"
   ]
  },
  {
   "cell_type": "code",
   "execution_count": 21,
   "metadata": {
    "collapsed": false
   },
   "outputs": [
    {
     "name": "stdout",
     "output_type": "stream",
     "text": [
      "233/233 [==============================] - 23s     \n"
     ]
    }
   ],
   "source": [
    "y_pred = VGG.predict_classes(X_test)"
   ]
  },
  {
   "cell_type": "code",
   "execution_count": 22,
   "metadata": {
    "collapsed": false
   },
   "outputs": [
    {
     "data": {
      "text/plain": [
       "array([[126,   0],\n",
       "       [107,   0]])"
      ]
     },
     "execution_count": 22,
     "metadata": {},
     "output_type": "execute_result"
    }
   ],
   "source": [
    "confusion_matrix(y_test, y_pred)"
   ]
  }
 ],
 "metadata": {
  "kernelspec": {
   "display_name": "Python 2",
   "language": "python",
   "name": "python2"
  },
  "language_info": {
   "codemirror_mode": {
    "name": "ipython",
    "version": 2
   },
   "file_extension": ".py",
   "mimetype": "text/x-python",
   "name": "python",
   "nbconvert_exporter": "python",
   "pygments_lexer": "ipython2",
   "version": "2.7.11"
  }
 },
 "nbformat": 4,
 "nbformat_minor": 0
}
