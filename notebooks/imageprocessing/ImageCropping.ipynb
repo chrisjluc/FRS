{
 "cells": [
  {
   "cell_type": "markdown",
   "metadata": {},
   "source": [
    "<h1>Image Cropping</h1>\n",
    "\n",
    "Purpose is to walk through all the images and crop the images to a single face of the person of interest. Images are thrown out if no face can be detected. If there are multiple faces, the face closest to the center of the image is used."
   ]
  },
  {
   "cell_type": "code",
   "execution_count": 1,
   "metadata": {
    "collapsed": false
   },
   "outputs": [],
   "source": [
    "import os\n",
    "import dlib\n",
    "import fnmatch\n",
    "import math\n",
    "import sys\n",
    "\n",
    "from scipy.spatial import distance\n",
    "from skimage import io\n",
    "from PIL import Image"
   ]
  },
  {
   "cell_type": "code",
   "execution_count": 2,
   "metadata": {
    "collapsed": true
   },
   "outputs": [],
   "source": [
    "DATA_PATH = '../../data/'\n",
    "DATA_LFW_PATH = DATA_PATH + 'lfw/'\n",
    "DATA_LFW_CROPPED_PATH = DATA_PATH + 'lfw_cropped/'"
   ]
  },
  {
   "cell_type": "code",
   "execution_count": 3,
   "metadata": {
    "collapsed": false
   },
   "outputs": [],
   "source": [
    "detector = dlib.get_frontal_face_detector()\n",
    "predictor = dlib.shape_predictor(DATA_PATH + 'shape_predictor_68_face_landmarks.dat')"
   ]
  },
  {
   "cell_type": "code",
   "execution_count": 4,
   "metadata": {
    "collapsed": true
   },
   "outputs": [],
   "source": [
    "files = []\n",
    "for root, dirnames, filenames in os.walk(DATA_LFW_PATH):\n",
    "    for filename in fnmatch.filter(filenames, '*'):\n",
    "        if not filename.endswith('.DS_Store'):\n",
    "            files.append(os.path.join(root, filename))"
   ]
  },
  {
   "cell_type": "code",
   "execution_count": 5,
   "metadata": {
    "collapsed": false
   },
   "outputs": [],
   "source": [
    "if not os.path.exists(DATA_LFW_CROPPED_PATH):\n",
    "    os.makedirs(DATA_LFW_CROPPED_PATH)\n",
    "    \n",
    "for f in files:\n",
    "    directory = os.path.dirname(f).replace('/lfw/', '/lfw_cropped/')\n",
    "    if not os.path.exists(directory):\n",
    "        os.makedirs(directory)"
   ]
  },
  {
   "cell_type": "code",
   "execution_count": 7,
   "metadata": {
    "collapsed": false
   },
   "outputs": [
    {
     "data": {
      "text/plain": [
       "{'.jpg'}"
      ]
     },
     "execution_count": 7,
     "metadata": {},
     "output_type": "execute_result"
    }
   ],
   "source": [
    "set([os.path.splitext(f)[1] for f in files])"
   ]
  },
  {
   "cell_type": "code",
   "execution_count": 10,
   "metadata": {
    "collapsed": true
   },
   "outputs": [],
   "source": [
    "images = [io.imread(f) for f in files]"
   ]
  },
  {
   "cell_type": "code",
   "execution_count": 11,
   "metadata": {
    "collapsed": false
   },
   "outputs": [
    {
     "data": {
      "text/plain": [
       "{(250, 250, 3)}"
      ]
     },
     "execution_count": 11,
     "metadata": {},
     "output_type": "execute_result"
    }
   ],
   "source": [
    "set([image.shape for image in images])"
   ]
  },
  {
   "cell_type": "code",
   "execution_count": 13,
   "metadata": {
    "collapsed": false
   },
   "outputs": [],
   "source": [
    "height = images[0].shape[0]\n",
    "width = images[0].shape[1]\n",
    "image_centre = width / 2, height / 2\n",
    "\n",
    "num_images_no_faces_detected = 0\n",
    "for f, img in zip(files, images):\n",
    "    \n",
    "    most_centre_face = None\n",
    "    most_centre_dist = sys.maxint\n",
    "        \n",
    "    detected_faces = detector(img, 1)\n",
    "    if len(detected_faces) == 0:\n",
    "        num_images_no_faces_detected += 1\n",
    "        continue\n",
    "        \n",
    "    for d in detected_faces:\n",
    "        face_centre = (d.right() + d.left()) / 2, (d.bottom() + d.top()) / 2\n",
    "        centre_dist = distance.euclidean(image_centre, face_centre)\n",
    "        if centre_dist < most_centre_dist:\n",
    "            most_centre_dist = centre_dist\n",
    "            most_centre_face = d\n",
    "    \n",
    "\n",
    "    image = Image.open(f)  \n",
    "    f = f.replace('/lfw/', '/lfw_cropped/')\n",
    "    image.crop((most_centre_face.left(), \n",
    "                most_centre_face.top(), \n",
    "                most_centre_face.right(), \n",
    "                most_centre_face.bottom())\n",
    "              ).save(f)\n"
   ]
  }
 ],
 "metadata": {
  "kernelspec": {
   "display_name": "Python 2",
   "language": "python",
   "name": "python2"
  },
  "language_info": {
   "codemirror_mode": {
    "name": "ipython",
    "version": 2
   },
   "file_extension": ".py",
   "mimetype": "text/x-python",
   "name": "python",
   "nbconvert_exporter": "python",
   "pygments_lexer": "ipython2",
   "version": "2.7.6"
  }
 },
 "nbformat": 4,
 "nbformat_minor": 0
}
