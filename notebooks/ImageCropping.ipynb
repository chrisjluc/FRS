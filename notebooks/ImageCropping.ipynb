{
 "cells": [
  {
   "cell_type": "markdown",
   "metadata": {},
   "source": [
    "<h1>Image Cropping</h1>\n",
    "\n",
    "Purpose is to walk through all the images and crop the images to a single face of the person of interest. Images are thrown out if no face can be detected. If there are multiple faces, the face closest to the center of the image is used."
   ]
  },
  {
   "cell_type": "code",
   "execution_count": 102,
   "metadata": {
    "collapsed": false
   },
   "outputs": [],
   "source": [
    "import os\n",
    "import dlib\n",
    "import fnmatch\n",
    "import math\n",
    "import sys\n",
    "\n",
    "from scipy.spatial import distance\n",
    "from skimage import io\n",
    "from PIL import Image"
   ]
  },
  {
   "cell_type": "code",
   "execution_count": 29,
   "metadata": {
    "collapsed": true
   },
   "outputs": [],
   "source": [
    "DATA_PATH = '../data/'\n",
    "DATA_LFW_PATH = DATA_PATH + 'lfw_cropped/'\n",
    "DATA_LFW_CROPPED_PATH = DATA_PATH + 'lfw_cropped/'"
   ]
  },
  {
   "cell_type": "code",
   "execution_count": 30,
   "metadata": {
    "collapsed": true
   },
   "outputs": [],
   "source": [
    "detector = dlib.get_frontal_face_detector()\n",
    "predictor = dlib.shape_predictor('../data/shape_predictor_68_face_landmarks.dat')"
   ]
  },
  {
   "cell_type": "code",
   "execution_count": 19,
   "metadata": {
    "collapsed": true
   },
   "outputs": [],
   "source": [
    "files = []\n",
    "for root, dirnames, filenames in os.walk(DATA_LFW_PATH):\n",
    "    for filename in fnmatch.filter(filenames, '*'):\n",
    "        if not filename.endswith('.DS_Store'):\n",
    "            files.append(os.path.join(root, filename))"
   ]
  },
  {
   "cell_type": "code",
   "execution_count": 31,
   "metadata": {
    "collapsed": false
   },
   "outputs": [],
   "source": [
    "if not os.path.exists(DATA_LFW_CROPPED_PATH):\n",
    "    os.makedirs(DATA_LFW_CROPPED_PATH)\n",
    "    \n",
    "for f in files:\n",
    "    directory = os.path.dirname(f).replace('/lfw/', '/lfw_cropped/')\n",
    "    if not os.path.exists(directory):\n",
    "        os.makedirs(directory)"
   ]
  },
  {
   "cell_type": "code",
   "execution_count": 34,
   "metadata": {
    "collapsed": false
   },
   "outputs": [
    {
     "data": {
      "text/plain": [
       "{'.jpg'}"
      ]
     },
     "execution_count": 34,
     "metadata": {},
     "output_type": "execute_result"
    }
   ],
   "source": [
    "set([os.path.splitext(f)[1] for f in files])"
   ]
  },
  {
   "cell_type": "code",
   "execution_count": 86,
   "metadata": {
    "collapsed": false
   },
   "outputs": [
    {
     "data": {
      "text/plain": [
       "{(250, 250, 3)}"
      ]
     },
     "execution_count": 86,
     "metadata": {},
     "output_type": "execute_result"
    }
   ],
   "source": [
    "set([io.imread(f).shape for f in files])"
   ]
  },
  {
   "cell_type": "code",
   "execution_count": 108,
   "metadata": {
    "collapsed": false
   },
   "outputs": [],
   "source": [
    "height = img.shape[0]\n",
    "width = img.shape[1]\n",
    "image_centre = width / 2, height / 2\n",
    "\n",
    "num_images_no_faces_detected = 0\n",
    "for f in files:\n",
    "    \n",
    "    most_centre_face = None\n",
    "    most_centre_dist = sys.maxint\n",
    "        \n",
    "    img = io.imread(f)\n",
    "    detected_faces = detector(img, 1)\n",
    "    if len(detected_faces) == 0:\n",
    "        num_images_no_faces_detected += 1\n",
    "        continue\n",
    "        \n",
    "    for d in detected_faces:\n",
    "        face_centre = (d.right() + d.left()) / 2, (d.bottom() + d.top()) / 2\n",
    "        centre_dist = distance.euclidean(image_centre, face_centre)\n",
    "        if centre_dist < most_centre_dist:\n",
    "            most_centre_dist = centre_dist\n",
    "            most_centre_face = d\n",
    "    \n",
    "\n",
    "    image = Image.open(f)  \n",
    "    f = f.replace('/lfw/', '/lfw_cropped/')\n",
    "    image.crop((most_centre_face.left(), \n",
    "                most_centre_face.top(), \n",
    "                most_centre_face.right(), \n",
    "                most_centre_face.bottom())\n",
    "              ).save(f)\n"
   ]
  },
  {
   "cell_type": "code",
   "execution_count": null,
   "metadata": {
    "collapsed": true
   },
   "outputs": [],
   "source": []
  }
 ],
 "metadata": {
  "kernelspec": {
   "display_name": "Python 2",
   "language": "python",
   "name": "python2"
  },
  "language_info": {
   "codemirror_mode": {
    "name": "ipython",
    "version": 2
   },
   "file_extension": ".py",
   "mimetype": "text/x-python",
   "name": "python",
   "nbconvert_exporter": "python",
   "pygments_lexer": "ipython2",
   "version": "2.7.11"
  }
 },
 "nbformat": 4,
 "nbformat_minor": 0
}
