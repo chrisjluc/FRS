{
 "cells": [
  {
   "cell_type": "markdown",
   "metadata": {},
   "source": [
    "<h1>Stacked Auto Encoders Training 6-15-2016</h1>\n",
    "\n",
    "Assuming CNN-H1, and the 6 CNNs for the patches have been trained, we can use the weights to get activations for their fc6 layer and train 3 layers of our SAE individually."
   ]
  },
  {
   "cell_type": "code",
   "execution_count": 1,
   "metadata": {
    "collapsed": false
   },
   "outputs": [],
   "source": [
    "%load_ext autoreload"
   ]
  },
  {
   "cell_type": "code",
   "execution_count": 98,
   "metadata": {
    "collapsed": false
   },
   "outputs": [],
   "source": [
    "%autoreload 2\n",
    "%matplotlib inline\n",
    "\n",
    "import os\n",
    "import numpy as np\n",
    "import matplotlib.pyplot as plt\n",
    "\n",
    "from multiprocessing import Process\n",
    "from scipy.ndimage.filters import gaussian_filter\n",
    "\n",
    "from skimage import io\n",
    "from skimage.color import rgb2grey\n",
    "from skimage.transform import resize\n",
    "\n",
    "from keras.layers import Input, Dense\n",
    "from keras.models import Model, Sequential\n",
    "from keras.optimizers import SGD\n",
    "\n",
    "# from keras.utils import np_utils\n",
    "\n",
    "np.random.seed(123456)"
   ]
  },
  {
   "cell_type": "code",
   "execution_count": 3,
   "metadata": {
    "collapsed": false
   },
   "outputs": [],
   "source": [
    "cnn_h1_weight_file = 'CNN-H1_epoch-20_activations'\n",
    "cnn_p1_weight_file = 'CNN-P1_epoch-20_activations'\n",
    "cnn_p2_weight_file = 'CNN-P2_epoch-20_activations'\n",
    "cnn_p3_weight_file = 'CNN-P3_epoch-20_activations'\n",
    "cnn_p4_weight_file = 'CNN-P4_epoch-20_activations'\n",
    "cnn_p5_weight_file = 'CNN-P5_epoch-20_activations'\n",
    "cnn_p6_weight_file = 'CNN-P6_epoch-20_activations'\n",
    "y_train_file = 'y_train_activations'\n",
    "\n",
    "layer_1_size = 2048\n",
    "layer_2_size = 1024\n",
    "layer_3_size = 512\n"
   ]
  },
  {
   "cell_type": "code",
   "execution_count": 4,
   "metadata": {
    "collapsed": true
   },
   "outputs": [],
   "source": [
    "def load_activations(file_name):\n",
    "    return np.load('models/' + file_name + '.npy')"
   ]
  },
  {
   "cell_type": "code",
   "execution_count": 5,
   "metadata": {
    "collapsed": true
   },
   "outputs": [],
   "source": [
    "cnn_h1_activations = load_activations(cnn_h1_weight_file)\n",
    "cnn_p1_activations = load_activations(cnn_p1_weight_file)\n",
    "cnn_p2_activations = load_activations(cnn_p2_weight_file)\n",
    "cnn_p3_activations = load_activations(cnn_p3_weight_file)\n",
    "cnn_p4_activations = load_activations(cnn_p4_weight_file)\n",
    "cnn_p5_activations = load_activations(cnn_p5_weight_file)\n",
    "cnn_p6_activations = load_activations(cnn_p6_weight_file)\n",
    "y_train = load_activations(y_train_file)"
   ]
  },
  {
   "cell_type": "code",
   "execution_count": 6,
   "metadata": {
    "collapsed": true
   },
   "outputs": [],
   "source": [
    "def fix_activations(_activations):\n",
    "    return np.array([activation for activations in _activations for activation in activations])"
   ]
  },
  {
   "cell_type": "code",
   "execution_count": 7,
   "metadata": {
    "collapsed": false
   },
   "outputs": [],
   "source": [
    "cnn_h1_activations = fix_activations(cnn_h1_activations)\n",
    "cnn_p1_activations = fix_activations(cnn_p1_activations)\n",
    "cnn_p2_activations = fix_activations(cnn_p2_activations)\n",
    "cnn_p3_activations = fix_activations(cnn_p3_activations)\n",
    "cnn_p4_activations = fix_activations(cnn_p4_activations)\n",
    "cnn_p5_activations = fix_activations(cnn_p5_activations)\n",
    "cnn_p6_activations = fix_activations(cnn_p6_activations)"
   ]
  },
  {
   "cell_type": "code",
   "execution_count": 8,
   "metadata": {
    "collapsed": false
   },
   "outputs": [
    {
     "data": {
      "text/plain": [
       "(26668, 512)"
      ]
     },
     "execution_count": 8,
     "metadata": {},
     "output_type": "execute_result"
    }
   ],
   "source": [
    "cnn_h1_activations.shape"
   ]
  },
  {
   "cell_type": "code",
   "execution_count": 9,
   "metadata": {
    "collapsed": false
   },
   "outputs": [],
   "source": [
    "activations = np.concatenate((\n",
    "        cnn_h1_activations, \n",
    "        cnn_p1_activations,\n",
    "        cnn_p2_activations,\n",
    "        cnn_p3_activations,\n",
    "        cnn_p4_activations,\n",
    "        cnn_p5_activations,\n",
    "        cnn_p6_activations), axis=1)"
   ]
  },
  {
   "cell_type": "code",
   "execution_count": 10,
   "metadata": {
    "collapsed": false
   },
   "outputs": [
    {
     "data": {
      "text/plain": [
       "(26668, 3584)"
      ]
     },
     "execution_count": 10,
     "metadata": {},
     "output_type": "execute_result"
    }
   ],
   "source": [
    "activations.shape"
   ]
  },
  {
   "cell_type": "code",
   "execution_count": 11,
   "metadata": {
    "collapsed": false
   },
   "outputs": [
    {
     "data": {
      "text/plain": [
       "(26668,)"
      ]
     },
     "execution_count": 11,
     "metadata": {},
     "output_type": "execute_result"
    }
   ],
   "source": [
    "y_train.shape"
   ]
  },
  {
   "cell_type": "markdown",
   "metadata": {},
   "source": [
    "<h2>Auto Encoder</h2>"
   ]
  },
  {
   "cell_type": "code",
   "execution_count": 107,
   "metadata": {
    "collapsed": false
   },
   "outputs": [],
   "source": [
    "def get_encoder(X_train, X_test, encoding_dim):\n",
    "    assert X_train.shape[1] == X_test.shape[1]\n",
    "    shape = X_train.shape[1]\n",
    "    validation_split = .15\n",
    "\n",
    "    input_img = Input(shape=(shape,))\n",
    "    encoded = Dense(encoding_dim, activation='sigmoid')(input_img)\n",
    "    decoded = Dense(shape, activation='sigmoid')(encoded)\n",
    "\n",
    "    autoencoder = Model(input=input_img, output=decoded)\n",
    "    encoder = Model(input=input_img, output=encoded)\n",
    "\n",
    "    # sgd = SGD(lr=.01, decay=99.9) #lr=0.01->0.00001\n",
    "    autoencoder.compile(optimizer='adadelta', loss='binary_crossentropy', metrics=['accuracy'])\n",
    "    \n",
    "    autoencoder.fit(X_train, X_train,\n",
    "                nb_epoch=10,\n",
    "                batch_size=256,\n",
    "                shuffle=True,\n",
    "                validation_data=(X_test, X_test))\n",
    "    return encoder\n",
    "    "
   ]
  },
  {
   "cell_type": "code",
   "execution_count": 108,
   "metadata": {
    "collapsed": true
   },
   "outputs": [],
   "source": [
    "x_train = activations[:int(activations.shape[0] * (1 - validation_split))]\n",
    "x_test = activations[int(activations.shape[0] * (1 - validation_split)):]\n",
    "X_train = x_train.reshape((len(x_train), np.prod(x_train.shape[1:])))\n",
    "X_test = x_test.reshape((len(x_test), np.prod(x_test.shape[1:])))"
   ]
  },
  {
   "cell_type": "code",
   "execution_count": 109,
   "metadata": {
    "collapsed": false
   },
   "outputs": [
    {
     "name": "stdout",
     "output_type": "stream",
     "text": [
      "Train on 22667 samples, validate on 4001 samples\n",
      "Epoch 1/10\n",
      "22667/22667 [==============================] - 3s - loss: -13.0636 - acc: 0.0081 - val_loss: -21.0825 - val_acc: 0.0155\n",
      "Epoch 2/10\n",
      "22667/22667 [==============================] - 3s - loss: -24.2497 - acc: 0.0235 - val_loss: -26.9902 - val_acc: 0.0312\n",
      "Epoch 3/10\n",
      "22667/22667 [==============================] - 3s - loss: -28.7776 - acc: 0.0346 - val_loss: -30.5081 - val_acc: 0.0400\n",
      "Epoch 4/10\n",
      "22667/22667 [==============================] - 3s - loss: -31.7733 - acc: 0.0412 - val_loss: -33.0091 - val_acc: 0.0442\n",
      "Epoch 5/10\n",
      "22667/22667 [==============================] - 3s - loss: -33.9836 - acc: 0.0486 - val_loss: -34.9423 - val_acc: 0.0517\n",
      "Epoch 6/10\n",
      "22667/22667 [==============================] - 3s - loss: -35.7482 - acc: 0.0562 - val_loss: -36.5340 - val_acc: 0.0627\n",
      "Epoch 7/10\n",
      "22667/22667 [==============================] - 3s - loss: -37.2314 - acc: 0.0635 - val_loss: -37.8963 - val_acc: 0.0637\n",
      "Epoch 8/10\n",
      "22667/22667 [==============================] - 3s - loss: -38.5136 - acc: 0.0690 - val_loss: -39.0837 - val_acc: 0.0727\n",
      "Epoch 9/10\n",
      "22667/22667 [==============================] - 3s - loss: -39.6364 - acc: 0.0720 - val_loss: -40.1249 - val_acc: 0.0760\n",
      "Epoch 10/10\n",
      "22667/22667 [==============================] - 3s - loss: -40.6243 - acc: 0.0745 - val_loss: -41.0458 - val_acc: 0.0810\n"
     ]
    }
   ],
   "source": [
    "encoder = get_encoder(X_train, X_test, 2048)"
   ]
  },
  {
   "cell_type": "code",
   "execution_count": 110,
   "metadata": {
    "collapsed": false
   },
   "outputs": [
    {
     "name": "stdout",
     "output_type": "stream",
     "text": [
      "(22667, 2048)\n",
      "(4001, 2048)\n"
     ]
    }
   ],
   "source": [
    "X_train = encoder.predict(X_train)\n",
    "X_test = encoder.predict(X_test)\n",
    "\n",
    "print X_train.shape\n",
    "print X_test.shape"
   ]
  },
  {
   "cell_type": "code",
   "execution_count": 111,
   "metadata": {
    "collapsed": false
   },
   "outputs": [
    {
     "name": "stdout",
     "output_type": "stream",
     "text": [
      "Train on 22667 samples, validate on 4001 samples\n",
      "Epoch 1/10\n",
      "22667/22667 [==============================] - 2s - loss: 0.6902 - acc: 0.0000e+00 - val_loss: 0.6786 - val_acc: 0.0000e+00\n",
      "Epoch 2/10\n",
      "22667/22667 [==============================] - 2s - loss: 0.6695 - acc: 1.7647e-04 - val_loss: 0.6587 - val_acc: 0.0000e+00\n",
      "Epoch 3/10\n",
      "22667/22667 [==============================] - 2s - loss: 0.6460 - acc: 3.5294e-04 - val_loss: 0.6314 - val_acc: 2.4994e-04\n",
      "Epoch 4/10\n",
      "22667/22667 [==============================] - 2s - loss: 0.6160 - acc: 0.0011 - val_loss: 0.5996 - val_acc: 9.9975e-04\n",
      "Epoch 5/10\n",
      "22667/22667 [==============================] - 2s - loss: 0.5839 - acc: 0.0015 - val_loss: 0.5679 - val_acc: 0.0020\n",
      "Epoch 6/10\n",
      "22667/22667 [==============================] - 2s - loss: 0.5535 - acc: 0.0023 - val_loss: 0.5392 - val_acc: 0.0020\n",
      "Epoch 7/10\n",
      "22667/22667 [==============================] - 2s - loss: 0.5265 - acc: 0.0028 - val_loss: 0.5140 - val_acc: 0.0027\n",
      "Epoch 8/10\n",
      "22667/22667 [==============================] - 2s - loss: 0.5028 - acc: 0.0028 - val_loss: 0.4919 - val_acc: 0.0040\n",
      "Epoch 9/10\n",
      "22667/22667 [==============================] - 2s - loss: 0.4820 - acc: 0.0028 - val_loss: 0.4725 - val_acc: 0.0032\n",
      "Epoch 10/10\n",
      "22667/22667 [==============================] - 2s - loss: 0.4638 - acc: 0.0026 - val_loss: 0.4554 - val_acc: 0.0032\n"
     ]
    }
   ],
   "source": [
    "encoder = get_encoder(X_train, X_test, 1024)"
   ]
  },
  {
   "cell_type": "code",
   "execution_count": 112,
   "metadata": {
    "collapsed": false
   },
   "outputs": [
    {
     "name": "stdout",
     "output_type": "stream",
     "text": [
      "(22667, 1024)\n",
      "(4001, 1024)\n"
     ]
    }
   ],
   "source": [
    "X_train = encoder.predict(X_train)\n",
    "X_test = encoder.predict(X_test)\n",
    "\n",
    "print X_train.shape\n",
    "print X_test.shape"
   ]
  },
  {
   "cell_type": "code",
   "execution_count": 113,
   "metadata": {
    "collapsed": false
   },
   "outputs": [
    {
     "name": "stdout",
     "output_type": "stream",
     "text": [
      "Train on 22667 samples, validate on 4001 samples\n",
      "Epoch 1/10\n",
      "22667/22667 [==============================] - 1s - loss: 0.6923 - acc: 0.0014 - val_loss: 0.6844 - val_acc: 2.4994e-04\n",
      "Epoch 2/10\n",
      "22667/22667 [==============================] - 1s - loss: 0.6798 - acc: 0.0011 - val_loss: 0.6741 - val_acc: 0.0020\n",
      "Epoch 3/10\n",
      "22667/22667 [==============================] - 1s - loss: 0.6674 - acc: 0.0025 - val_loss: 0.6594 - val_acc: 0.0042\n",
      "Epoch 4/10\n",
      "22667/22667 [==============================] - 1s - loss: 0.6507 - acc: 0.0048 - val_loss: 0.6411 - val_acc: 0.0067\n",
      "Epoch 5/10\n",
      "22667/22667 [==============================] - 1s - loss: 0.6318 - acc: 0.0086 - val_loss: 0.6222 - val_acc: 0.0097\n",
      "Epoch 6/10\n",
      "22667/22667 [==============================] - 1s - loss: 0.6136 - acc: 0.0142 - val_loss: 0.6050 - val_acc: 0.0172\n",
      "Epoch 7/10\n",
      "22667/22667 [==============================] - 1s - loss: 0.5976 - acc: 0.0215 - val_loss: 0.5902 - val_acc: 0.0275\n",
      "Epoch 8/10\n",
      "22667/22667 [==============================] - 1s - loss: 0.5839 - acc: 0.0334 - val_loss: 0.5778 - val_acc: 0.0407\n",
      "Epoch 9/10\n",
      "22667/22667 [==============================] - 1s - loss: 0.5725 - acc: 0.0476 - val_loss: 0.5674 - val_acc: 0.0577\n",
      "Epoch 10/10\n",
      "22667/22667 [==============================] - 1s - loss: 0.5630 - acc: 0.0644 - val_loss: 0.5588 - val_acc: 0.0697\n"
     ]
    }
   ],
   "source": [
    "encoder = get_encoder(X_train, X_test, 512)"
   ]
  },
  {
   "cell_type": "code",
   "execution_count": 114,
   "metadata": {
    "collapsed": false
   },
   "outputs": [
    {
     "name": "stdout",
     "output_type": "stream",
     "text": [
      "(22667, 512)\n",
      "(4001, 512)\n"
     ]
    }
   ],
   "source": [
    "X_train = encoder.predict(X_train)\n",
    "X_test = encoder.predict(X_test)\n",
    "\n",
    "print X_train.shape\n",
    "print X_test.shape"
   ]
  },
  {
   "cell_type": "code",
   "execution_count": null,
   "metadata": {
    "collapsed": true
   },
   "outputs": [],
   "source": []
  }
 ],
 "metadata": {
  "kernelspec": {
   "display_name": "Python 2",
   "language": "python",
   "name": "python2"
  },
  "language_info": {
   "codemirror_mode": {
    "name": "ipython",
    "version": 2
   },
   "file_extension": ".py",
   "mimetype": "text/x-python",
   "name": "python",
   "nbconvert_exporter": "python",
   "pygments_lexer": "ipython2",
   "version": "2.7.6"
  }
 },
 "nbformat": 4,
 "nbformat_minor": 0
}
