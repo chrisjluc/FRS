{
 "cells": [
  {
   "cell_type": "markdown",
   "metadata": {},
   "source": [
    "<h1>Basic Stats on Image Data Set</h1>\n",
    "\n",
    "Purpose is to understand our data more. Looking at the distribution, mean, median and etc."
   ]
  },
  {
   "cell_type": "code",
   "execution_count": 1,
   "metadata": {
    "collapsed": false
   },
   "outputs": [],
   "source": [
    "%load_ext autoreload"
   ]
  },
  {
   "cell_type": "code",
   "execution_count": 2,
   "metadata": {
    "collapsed": false
   },
   "outputs": [],
   "source": [
    "%autoreload 2\n",
    "%matplotlib inline\n",
    "\n",
    "import os\n",
    "import fnmatch\n",
    "import matplotlib.pyplot as plt\n",
    "import numpy as np\n",
    "\n",
    "plt.rcParams['figure.figsize'] = (12.0, 10.0)"
   ]
  },
  {
   "cell_type": "code",
   "execution_count": 3,
   "metadata": {
    "collapsed": true
   },
   "outputs": [],
   "source": [
    "DATA_PATH = '../data/'\n",
    "DATA_LFW_PATH = DATA_PATH + 'lfw_cropped/'\n",
    "DATA_LFW_CROPPED_PATH = DATA_PATH + 'lfw_cropped/'"
   ]
  },
  {
   "cell_type": "code",
   "execution_count": 4,
   "metadata": {
    "collapsed": false
   },
   "outputs": [],
   "source": [
    "count_by_names_dict = {}\n",
    "for root, dirnames, filenames in os.walk(DATA_LFW_PATH):\n",
    "    for dirname in dirnames:\n",
    "        if dirname not in count_by_names_dict:\n",
    "            count_by_names_dict[dirname] = 0\n",
    "        for filename in os.listdir(os.path.join(DATA_LFW_PATH, dirname)):\n",
    "            if filename.endswith(\".jpg\"):\n",
    "                count_by_names_dict[dirname] += 1"
   ]
  },
  {
   "cell_type": "code",
   "execution_count": 5,
   "metadata": {
    "collapsed": false
   },
   "outputs": [],
   "source": [
    "counts = np.array([x for x in count_by_names_dict.itervalues()])"
   ]
  },
  {
   "cell_type": "code",
   "execution_count": 6,
   "metadata": {
    "collapsed": false
   },
   "outputs": [
    {
     "name": "stdout",
     "output_type": "stream",
     "text": [
      "Number of people: 5749\n",
      "Total number of images: 13172\n",
      "Average number of images per person: 2.29118107497\n",
      "Median number of images per person: 1.0\n"
     ]
    }
   ],
   "source": [
    "print 'Number of people: {}'.format(len(count_by_names_dict))\n",
    "print 'Total number of images: {}'.format(np.sum(counts))\n",
    "print 'Average number of images per person: {}'.format(np.mean(counts))\n",
    "print 'Median number of images per person: {}'.format(np.median(counts))"
   ]
  },
  {
   "cell_type": "code",
   "execution_count": 7,
   "metadata": {
    "collapsed": false
   },
   "outputs": [
    {
     "data": {
      "image/png": "[encoded data removed]",
      "text/plain": [
       "<matplotlib.figure.Figure at 0x10bedf710>"
      ]
     },
     "metadata": {},
     "output_type": "display_data"
    }
   ],
   "source": [
    "plt.hist(counts, 50)\n",
    "plt.xlabel('Number of Images Per Person')\n",
    "plt.yscale('log')\n",
    "plt.ylabel('Frequency')\n",
    "plt.title('Number of Images Per Person Histogram')\n",
    "plt.show()"
   ]
  },
  {
   "cell_type": "code",
   "execution_count": 8,
   "metadata": {
    "collapsed": false
   },
   "outputs": [
    {
     "name": "stdout",
     "output_type": "stream",
     "text": [
      "Top people by image count:\n"
     ]
    },
    {
     "data": {
      "text/plain": [
       "[('George_W_Bush', 529),\n",
       " ('Colin_Powell', 236),\n",
       " ('Tony_Blair', 144),\n",
       " ('Donald_Rumsfeld', 120),\n",
       " ('Gerhard_Schroeder', 109),\n",
       " ('Ariel_Sharon', 77),\n",
       " ('Hugo_Chavez', 71),\n",
       " ('Junichiro_Koizumi', 60),\n",
       " ('Jean_Chretien', 55),\n",
       " ('John_Ashcroft', 53),\n",
       " ('Serena_Williams', 52),\n",
       " ('Jacques_Chirac', 50),\n",
       " ('Vladimir_Putin', 49),\n",
       " ('Luiz_Inacio_Lula_da_Silva', 48),\n",
       " ('Gloria_Macapagal_Arroyo', 44)]"
      ]
     },
     "execution_count": 8,
     "metadata": {},
     "output_type": "execute_result"
    }
   ],
   "source": [
    "print 'Top people by image count:'\n",
    "sorted(count_by_names_dict.items(), key=lambda x: x[1], reverse=True)[:15]"
   ]
  },
  {
   "cell_type": "code",
   "execution_count": 9,
   "metadata": {
    "collapsed": false
   },
   "outputs": [
    {
     "name": "stdout",
     "output_type": "stream",
     "text": [
      "Number of people with 1 images or more: 5721\n",
      "Number of people with 2 images or more: 1671\n",
      "Number of people with 3 images or more: 896\n",
      "Number of people with 4 images or more: 606\n",
      "Number of people with 5 images or more: 421\n",
      "Number of people with 6 images or more: 310\n",
      "Number of people with 7 images or more: 255\n",
      "Number of people with 8 images or more: 217\n",
      "Number of people with 9 images or more: 184\n"
     ]
    }
   ],
   "source": [
    "for i in range(1, 10):\n",
    "    print ('Number of people with ' + str(i) + ' images or more: ' \n",
    "    + str(len([x for x in count_by_names_dict.items() if x[1] >= i])))"
   ]
  },
  {
   "cell_type": "code",
   "execution_count": null,
   "metadata": {
    "collapsed": true
   },
   "outputs": [],
   "source": []
  }
 ],
 "metadata": {
  "kernelspec": {
   "display_name": "Python 2",
   "language": "python",
   "name": "python2"
  },
  "language_info": {
   "codemirror_mode": {
    "name": "ipython",
    "version": 2
   },
   "file_extension": ".py",
   "mimetype": "text/x-python",
   "name": "python",
   "nbconvert_exporter": "python",
   "pygments_lexer": "ipython2",
   "version": "2.7.11"
  }
 },
 "nbformat": 4,
 "nbformat_minor": 0
}
