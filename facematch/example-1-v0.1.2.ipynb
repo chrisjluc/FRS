{
 "cells": [
  {
   "cell_type": "code",
   "execution_count": 1,
   "metadata": {
    "collapsed": false
   },
   "outputs": [],
   "source": [
    "%load_ext autoreload"
   ]
  },
  {
   "cell_type": "code",
   "execution_count": 2,
   "metadata": {
    "collapsed": false
   },
   "outputs": [],
   "source": [
    "%matplotlib inline\n",
    "import os\n",
    "\n",
    "from api import API\n",
    "from image import NoFaceDetectedException"
   ]
  },
  {
   "cell_type": "code",
   "execution_count": 3,
   "metadata": {
    "collapsed": true
   },
   "outputs": [],
   "source": [
    "data_path = 'tests/.data/lfw/'\n",
    "image = 'tests/.data/lfw/{0}/{0}_{1}.jpg'"
   ]
  },
  {
   "cell_type": "code",
   "execution_count": 4,
   "metadata": {
    "collapsed": true
   },
   "outputs": [],
   "source": [
    "def get_names_by_count(path):\n",
    "    count_by_names_dict = {}\n",
    "    for root, dirnames, filenames in os.walk(path):\n",
    "        for dirname in dirnames:\n",
    "            if dirname not in count_by_names_dict:\n",
    "                count_by_names_dict[dirname] = 0\n",
    "            directory_path = os.path.join(path, dirname)\n",
    "            for filename in os.listdir(directory_path):\n",
    "                if filename.endswith(\".jpg\"):\n",
    "                    count_by_names_dict[dirname] += 1\n",
    "    return [x for x in count_by_names_dict.iteritems()]"
   ]
  },
  {
   "cell_type": "code",
   "execution_count": 5,
   "metadata": {
    "collapsed": false
   },
   "outputs": [],
   "source": [
    "names_by_count = get_names_by_count(data_path)\n",
    "sorted_names_by_count = sorted(names_by_count, key=lambda x: x[1], reverse=True)"
   ]
  },
  {
   "cell_type": "code",
   "execution_count": 6,
   "metadata": {
    "collapsed": true
   },
   "outputs": [],
   "source": [
    "api = API()"
   ]
  },
  {
   "cell_type": "code",
   "execution_count": 7,
   "metadata": {
    "collapsed": false
   },
   "outputs": [],
   "source": [
    "# api.remove_images()\n",
    "\n",
    "# for name, _ in sorted_names_by_count[:5]:\n",
    "#     for i in range(5):\n",
    "#         try:\n",
    "#             api.add_image(name, image.format(name, str(i + 1).zfill(4)))\n",
    "#         except NoFaceDetectedException:\n",
    "#             pass"
   ]
  },
  {
   "cell_type": "code",
   "execution_count": 8,
   "metadata": {
    "collapsed": false,
    "scrolled": false
   },
   "outputs": [
    {
     "name": "stderr",
     "output_type": "stream",
     "text": [
      "ERROR (theano.sandbox.cuda): ERROR: Not using GPU. Initialisation of device 0 failed:\n",
      "cublasCreate() returned this error 'the CUDA Runtime initialization failed'\n",
      "Using Theano backend.\n",
      "ERROR (theano.sandbox.cuda): ERROR: Not using GPU. Initialisation of device 1 failed:\n",
      "initCnmem: cnmemInit call failed! Reason=CNMEM_STATUS_OUT_OF_MEMORY. numdev=1\n",
      "\n",
      "Using Theano backend.\n",
      "ERROR (theano.sandbox.cuda): ERROR: Not using GPU. Initialisation of device 2 failed:\n",
      "initCnmem: cnmemInit call failed! Reason=CNMEM_STATUS_OUT_OF_MEMORY. numdev=1\n",
      "\n",
      "Using Theano backend.\n",
      "ERROR (theano.sandbox.cuda): ERROR: Not using GPU. Initialisation of device gpu failed:\n",
      "initCnmem: cnmemInit call failed! Reason=CNMEM_STATUS_OUT_OF_MEMORY. numdev=1\n",
      "\n",
      "Process Process-1:\n",
      "Traceback (most recent call last):\n",
      "  File \"/usr/lib/python2.7/multiprocessing/process.py\", line 258, in _bootstrap\n",
      "    self.run()\n",
      "  File \"/usr/lib/python2.7/multiprocessing/process.py\", line 114, in run\n",
      "    self._target(*self._args, **self._kwargs)\n",
      "  File \"task_manager.py\", line 12, in _run_task_with_gpu\n",
      "    task.run()\n",
      "  File \"tasks.py\", line 31, in run\n",
      "    model = self.model_cls(self.model_name, self.user_ids, self.X_train, self.X_train)\n",
      "  File \"models.py\", line 161, in __init__\n",
      "    self.model = _NN2(self.nb_classes, self.input_shape)\n",
      "  File \"models.py\", line 214, in _NN2\n",
      "    model.add(Convolution2D(64, 3, 3, activation='relu', input_shape=input_shape))\n",
      "ERROR (theano.sandbox.cuda): ERROR: Not using GPU. Initialisation of device gpu failed:\n",
      "initCnmem: cnmemInit call failed! Reason=CNMEM_STATUS_OUT_OF_MEMORY. numdev=1\n",
      "\n",
      "  File \"/usr/local/lib/python2.7/dist-packages/keras/models.py\", line 114, in add\n",
      "Process Process-2:\n",
      "    layer.create_input_layer(batch_input_shape, input_dtype)\n",
      "Traceback (most recent call last):\n",
      "  File \"/usr/local/lib/python2.7/dist-packages/keras/engine/topology.py\", line 341, in create_input_layer\n",
      "  File \"/usr/lib/python2.7/multiprocessing/process.py\", line 258, in _bootstrap\n",
      "    self(x)\n",
      "    self.run()\n",
      "  File \"/usr/local/lib/python2.7/dist-packages/keras/engine/topology.py\", line 458, in __call__\n",
      "  File \"/usr/lib/python2.7/multiprocessing/process.py\", line 114, in run\n",
      "    self._target(*self._args, **self._kwargs)\n",
      "    self.build(input_shapes[0])\n",
      "  File \"/usr/local/lib/python2.7/dist-packages/keras/layers/convolutional.py\", line 297, in build\n",
      "  File \"task_manager.py\", line 12, in _run_task_with_gpu\n",
      "    task.run()\n",
      "    self.W = self.init(self.W_shape, name='{}_W'.format(self.name))\n",
      "  File \"tasks.py\", line 31, in run\n",
      "  File \"/usr/local/lib/python2.7/dist-packages/keras/initializations.py\", line 59, in glorot_uniform\n",
      "    model = self.model_cls(self.model_name, self.user_ids, self.X_train, self.X_train)\n",
      "    return uniform(shape, s, name=name)\n",
      "  File \"models.py\", line 148, in __init__\n",
      "  File \"/usr/local/lib/python2.7/dist-packages/keras/initializations.py\", line 31, in uniform\n",
      "    name=name)\n",
      "    self.model = _NN1(self.nb_classes, self.input_shape)\n",
      "  File \"/usr/local/lib/python2.7/dist-packages/keras/backend/theano_backend.py\", line 31, in variable\n",
      "  File \"models.py\", line 171, in _NN1\n",
      "    return theano.shared(value=value, name=name, strict=False)\n",
      "    model.add(Convolution2D(64, 3, 3, activation='relu', input_shape=input_shape))\n",
      "  File \"/usr/local/lib/python2.7/dist-packages/theano/compile/sharedvalue.py\", line 247, in shared\n",
      "  File \"/usr/local/lib/python2.7/dist-packages/keras/models.py\", line 114, in add\n",
      "    layer.create_input_layer(batch_input_shape, input_dtype)\n",
      "    allow_downcast=allow_downcast, **kwargs)\n",
      "  File \"/usr/local/lib/python2.7/dist-packages/keras/engine/topology.py\", line 341, in create_input_layer\n",
      "  File \"/usr/local/lib/python2.7/dist-packages/theano/sandbox/cuda/var.py\", line 218, in float32_shared_constructor\n",
      "    self(x)\n",
      "    enable_cuda=False)\n",
      "  File \"/usr/local/lib/python2.7/dist-packages/keras/engine/topology.py\", line 458, in __call__\n",
      "  File \"/usr/local/lib/python2.7/dist-packages/theano/sandbox/cuda/__init__.py\", line 558, in use\n",
      "    self.build(input_shapes[0])\n",
      "    gpu_init(use.device_number, config.lib.cnmem)\n",
      "  File \"/usr/local/lib/python2.7/dist-packages/keras/layers/convolutional.py\", line 297, in build\n",
      "RuntimeError: ('initCnmem: cnmemInit call failed! Reason=CNMEM_STATUS_OUT_OF_MEMORY. numdev=1\\n', 'You asked to force this device and it failed. No fallback to the cpu or other gpu device.')\n",
      "    self.W = self.init(self.W_shape, name='{}_W'.format(self.name))\n",
      "  File \"/usr/local/lib/python2.7/dist-packages/keras/initializations.py\", line 59, in glorot_uniform\n",
      "    return uniform(shape, s, name=name)\n",
      "  File \"/usr/local/lib/python2.7/dist-packages/keras/initializations.py\", line 31, in uniform\n",
      "    name=name)\n",
      "  File \"/usr/local/lib/python2.7/dist-packages/keras/backend/theano_backend.py\", line 31, in variable\n",
      "    return theano.shared(value=value, name=name, strict=False)\n",
      "  File \"/usr/local/lib/python2.7/dist-packages/theano/compile/sharedvalue.py\", line 247, in shared\n",
      "    allow_downcast=allow_downcast, **kwargs)\n",
      "  File \"/usr/local/lib/python2.7/dist-packages/theano/sandbox/cuda/var.py\", line 218, in float32_shared_constructor\n",
      "    enable_cuda=False)\n",
      "  File \"/usr/local/lib/python2.7/dist-packages/theano/sandbox/cuda/__init__.py\", line 558, in use\n",
      "    gpu_init(use.device_number, config.lib.cnmem)\n",
      "RuntimeError: ('initCnmem: cnmemInit call failed! Reason=CNMEM_STATUS_OUT_OF_MEMORY. numdev=1\\n', 'You asked to force this device and it failed. No fallback to the cpu or other gpu device.')\n",
      "ERROR (theano.sandbox.cuda): ERROR: Not using GPU. Initialisation of device gpu failed:\n",
      "initCnmem: cnmemInit call failed! Reason=CNMEM_STATUS_OUT_OF_MEMORY. numdev=1\n",
      "\n",
      "Process Process-3:\n",
      "Traceback (most recent call last):\n",
      "  File \"/usr/lib/python2.7/multiprocessing/process.py\", line 258, in _bootstrap\n",
      "    self.run()\n",
      "  File \"/usr/lib/python2.7/multiprocessing/process.py\", line 114, in run\n",
      "    self._target(*self._args, **self._kwargs)\n",
      "  File \"task_manager.py\", line 12, in _run_task_with_gpu\n",
      "    task.run()\n",
      "  File \"tasks.py\", line 31, in run\n",
      "    model = self.model_cls(self.model_name, self.user_ids, self.X_train, self.X_train)\n",
      "  File \"models.py\", line 148, in __init__\n",
      "    self.model = _NN1(self.nb_classes, self.input_shape)\n",
      "  File \"models.py\", line 171, in _NN1\n",
      "    model.add(Convolution2D(64, 3, 3, activation='relu', input_shape=input_shape))\n",
      "  File \"/usr/local/lib/python2.7/dist-packages/keras/models.py\", line 114, in add\n",
      "    layer.create_input_layer(batch_input_shape, input_dtype)\n",
      "  File \"/usr/local/lib/python2.7/dist-packages/keras/engine/topology.py\", line 341, in create_input_layer\n",
      "    self(x)\n",
      "  File \"/usr/local/lib/python2.7/dist-packages/keras/engine/topology.py\", line 458, in __call__\n",
      "    self.build(input_shapes[0])\n",
      "  File \"/usr/local/lib/python2.7/dist-packages/keras/layers/convolutional.py\", line 297, in build\n",
      "    self.W = self.init(self.W_shape, name='{}_W'.format(self.name))\n",
      "  File \"/usr/local/lib/python2.7/dist-packages/keras/initializations.py\", line 59, in glorot_uniform\n",
      "    return uniform(shape, s, name=name)\n",
      "  File \"/usr/local/lib/python2.7/dist-packages/keras/initializations.py\", line 31, in uniform\n",
      "    name=name)\n",
      "  File \"/usr/local/lib/python2.7/dist-packages/keras/backend/theano_backend.py\", line 31, in variable\n",
      "    return theano.shared(value=value, name=name, strict=False)\n",
      "  File \"/usr/local/lib/python2.7/dist-packages/theano/compile/sharedvalue.py\", line 247, in shared\n",
      "    allow_downcast=allow_downcast, **kwargs)\n",
      "  File \"/usr/local/lib/python2.7/dist-packages/theano/sandbox/cuda/var.py\", line 218, in float32_shared_constructor\n",
      "    enable_cuda=False)\n",
      "  File \"/usr/local/lib/python2.7/dist-packages/theano/sandbox/cuda/__init__.py\", line 558, in use\n",
      "    gpu_init(use.device_number, config.lib.cnmem)\n",
      "RuntimeError: ('initCnmem: cnmemInit call failed! Reason=CNMEM_STATUS_OUT_OF_MEMORY. numdev=1\\n', 'You asked to force this device and it failed. No fallback to the cpu or other gpu device.')\n",
      "ERROR (theano.sandbox.cuda): ERROR: Not using GPU. Initialisation of device 0 failed:\n",
      "cublasCreate() returned this error 'the CUDA Runtime initialization failed'\n",
      "Using Theano backend.\n",
      "ERROR (theano.sandbox.cuda): ERROR: Not using GPU. Initialisation of device 1 failed:\n",
      "initCnmem: cnmemInit call failed! Reason=CNMEM_STATUS_OUT_OF_MEMORY. numdev=1\n",
      "\n",
      "Using Theano backend.\n",
      "ERROR (theano.sandbox.cuda): ERROR: Not using GPU. Initialisation of device gpu failed:\n",
      "initCnmem: cnmemInit call failed! Reason=CNMEM_STATUS_OUT_OF_MEMORY. numdev=1\n",
      "\n",
      "ERROR (theano.sandbox.cuda): ERROR: Not using GPU. Initialisation of device gpu failed:\n",
      "initCnmem: cnmemInit call failed! Reason=CNMEM_STATUS_OUT_OF_MEMORY. numdev=1\n",
      "\n",
      "ERROR (theano.sandbox.cuda): ERROR: Not using GPU. Initialisation of device 2 failed:\n",
      "initCnmem: cnmemInit call failed! Reason=CNMEM_STATUS_OUT_OF_MEMORY. numdev=1\n",
      "\n",
      "Process Process-6:\n",
      "Process Process-5:\n",
      "Traceback (most recent call last):\n",
      "Traceback (most recent call last):\n",
      "  File \"/usr/lib/python2.7/multiprocessing/process.py\", line 258, in _bootstrap\n",
      "Using Theano backend.\n",
      "  File \"/usr/lib/python2.7/multiprocessing/process.py\", line 258, in _bootstrap\n",
      "    self.run()\n",
      "    self.run()\n",
      "  File \"/usr/lib/python2.7/multiprocessing/process.py\", line 114, in run\n",
      "  File \"/usr/lib/python2.7/multiprocessing/process.py\", line 114, in run\n",
      "    self._target(*self._args, **self._kwargs)\n",
      "    self._target(*self._args, **self._kwargs)\n",
      "  File \"task_manager.py\", line 12, in _run_task_with_gpu\n",
      "  File \"task_manager.py\", line 12, in _run_task_with_gpu\n",
      "    task.run()\n",
      "    task.run()\n",
      "  File \"tasks.py\", line 31, in run\n",
      "  File \"tasks.py\", line 31, in run\n",
      "    model = self.model_cls(self.model_name, self.user_ids, self.X_train, self.X_train)\n",
      "    model = self.model_cls(self.model_name, self.user_ids, self.X_train, self.X_train)\n",
      "  File \"models.py\", line 148, in __init__\n",
      "    self.model = _NN1(self.nb_classes, self.input_shape)\n",
      "  File \"models.py\", line 148, in __init__\n",
      "  File \"models.py\", line 171, in _NN1\n",
      "    self.model = _NN1(self.nb_classes, self.input_shape)\n",
      "    model.add(Convolution2D(64, 3, 3, activation='relu', input_shape=input_shape))\n",
      "  File \"models.py\", line 171, in _NN1\n",
      "  File \"/usr/local/lib/python2.7/dist-packages/keras/models.py\", line 114, in add\n",
      "    model.add(Convolution2D(64, 3, 3, activation='relu', input_shape=input_shape))\n",
      "    layer.create_input_layer(batch_input_shape, input_dtype)\n",
      "  File \"/usr/local/lib/python2.7/dist-packages/keras/models.py\", line 114, in add\n",
      "  File \"/usr/local/lib/python2.7/dist-packages/keras/engine/topology.py\", line 341, in create_input_layer\n",
      "    layer.create_input_layer(batch_input_shape, input_dtype)\n",
      "    self(x)\n",
      "  File \"/usr/local/lib/python2.7/dist-packages/keras/engine/topology.py\", line 341, in create_input_layer\n",
      "  File \"/usr/local/lib/python2.7/dist-packages/keras/engine/topology.py\", line 458, in __call__\n",
      "    self(x)\n",
      "    self.build(input_shapes[0])\n",
      "  File \"/usr/local/lib/python2.7/dist-packages/keras/engine/topology.py\", line 458, in __call__\n",
      "  File \"/usr/local/lib/python2.7/dist-packages/keras/layers/convolutional.py\", line 297, in build\n",
      "    self.build(input_shapes[0])\n",
      "  File \"/usr/local/lib/python2.7/dist-packages/keras/layers/convolutional.py\", line 297, in build\n",
      "    self.W = self.init(self.W_shape, name='{}_W'.format(self.name))\n",
      "    self.W = self.init(self.W_shape, name='{}_W'.format(self.name))\n",
      "  File \"/usr/local/lib/python2.7/dist-packages/keras/initializations.py\", line 59, in glorot_uniform\n",
      "  File \"/usr/local/lib/python2.7/dist-packages/keras/initializations.py\", line 59, in glorot_uniform\n",
      "    return uniform(shape, s, name=name)\n",
      "    return uniform(shape, s, name=name)\n",
      "  File \"/usr/local/lib/python2.7/dist-packages/keras/initializations.py\", line 31, in uniform\n",
      "  File \"/usr/local/lib/python2.7/dist-packages/keras/initializations.py\", line 31, in uniform\n",
      "    name=name)\n",
      "    name=name)\n",
      "  File \"/usr/local/lib/python2.7/dist-packages/keras/backend/theano_backend.py\", line 31, in variable\n",
      "  File \"/usr/local/lib/python2.7/dist-packages/keras/backend/theano_backend.py\", line 31, in variable\n",
      "    return theano.shared(value=value, name=name, strict=False)\n",
      "    return theano.shared(value=value, name=name, strict=False)\n",
      "  File \"/usr/local/lib/python2.7/dist-packages/theano/compile/sharedvalue.py\", line 247, in shared\n",
      "  File \"/usr/local/lib/python2.7/dist-packages/theano/compile/sharedvalue.py\", line 247, in shared\n",
      "    allow_downcast=allow_downcast, **kwargs)\n",
      "    allow_downcast=allow_downcast, **kwargs)\n",
      "  File \"/usr/local/lib/python2.7/dist-packages/theano/sandbox/cuda/var.py\", line 218, in float32_shared_constructor\n",
      "  File \"/usr/local/lib/python2.7/dist-packages/theano/sandbox/cuda/var.py\", line 218, in float32_shared_constructor\n",
      "    enable_cuda=False)\n",
      "    enable_cuda=False)\n",
      "  File \"/usr/local/lib/python2.7/dist-packages/theano/sandbox/cuda/__init__.py\", line 558, in use\n",
      "  File \"/usr/local/lib/python2.7/dist-packages/theano/sandbox/cuda/__init__.py\", line 558, in use\n",
      "    gpu_init(use.device_number, config.lib.cnmem)\n",
      "    gpu_init(use.device_number, config.lib.cnmem)\n",
      "RuntimeError: ('initCnmem: cnmemInit call failed! Reason=CNMEM_STATUS_OUT_OF_MEMORY. numdev=1\\n', 'You asked to force this device and it failed. No fallback to the cpu or other gpu device.')\n",
      "RuntimeError: ('initCnmem: cnmemInit call failed! Reason=CNMEM_STATUS_OUT_OF_MEMORY. numdev=1\\n', 'You asked to force this device and it failed. No fallback to the cpu or other gpu device.')\n",
      "ERROR (theano.sandbox.cuda): ERROR: Not using GPU. Initialisation of device gpu failed:\n",
      "initCnmem: cnmemInit call failed! Reason=CNMEM_STATUS_OUT_OF_MEMORY. numdev=1\n",
      "\n",
      "Process Process-7:\n",
      "Traceback (most recent call last):\n",
      "  File \"/usr/lib/python2.7/multiprocessing/process.py\", line 258, in _bootstrap\n",
      "    self.run()\n",
      "  File \"/usr/lib/python2.7/multiprocessing/process.py\", line 114, in run\n",
      "    self._target(*self._args, **self._kwargs)\n",
      "  File \"task_manager.py\", line 12, in _run_task_with_gpu\n",
      "    task.run()\n",
      "  File \"tasks.py\", line 31, in run\n",
      "    model = self.model_cls(self.model_name, self.user_ids, self.X_train, self.X_train)\n",
      "  File \"models.py\", line 148, in __init__\n",
      "    self.model = _NN1(self.nb_classes, self.input_shape)\n",
      "  File \"models.py\", line 171, in _NN1\n",
      "    model.add(Convolution2D(64, 3, 3, activation='relu', input_shape=input_shape))\n",
      "  File \"/usr/local/lib/python2.7/dist-packages/keras/models.py\", line 114, in add\n",
      "    layer.create_input_layer(batch_input_shape, input_dtype)\n",
      "  File \"/usr/local/lib/python2.7/dist-packages/keras/engine/topology.py\", line 341, in create_input_layer\n",
      "    self(x)\n",
      "  File \"/usr/local/lib/python2.7/dist-packages/keras/engine/topology.py\", line 458, in __call__\n",
      "    self.build(input_shapes[0])\n",
      "  File \"/usr/local/lib/python2.7/dist-packages/keras/layers/convolutional.py\", line 297, in build\n",
      "    self.W = self.init(self.W_shape, name='{}_W'.format(self.name))\n",
      "  File \"/usr/local/lib/python2.7/dist-packages/keras/initializations.py\", line 59, in glorot_uniform\n",
      "    return uniform(shape, s, name=name)\n",
      "  File \"/usr/local/lib/python2.7/dist-packages/keras/initializations.py\", line 31, in uniform\n",
      "    name=name)\n",
      "  File \"/usr/local/lib/python2.7/dist-packages/keras/backend/theano_backend.py\", line 31, in variable\n",
      "    return theano.shared(value=value, name=name, strict=False)\n",
      "  File \"/usr/local/lib/python2.7/dist-packages/theano/compile/sharedvalue.py\", line 247, in shared\n",
      "    allow_downcast=allow_downcast, **kwargs)\n",
      "  File \"/usr/local/lib/python2.7/dist-packages/theano/sandbox/cuda/var.py\", line 218, in float32_shared_constructor\n",
      "    enable_cuda=False)\n",
      "  File \"/usr/local/lib/python2.7/dist-packages/theano/sandbox/cuda/__init__.py\", line 558, in use\n",
      "    gpu_init(use.device_number, config.lib.cnmem)\n",
      "RuntimeError: ('initCnmem: cnmemInit call failed! Reason=CNMEM_STATUS_OUT_OF_MEMORY. numdev=1\\n', 'You asked to force this device and it failed. No fallback to the cpu or other gpu device.')\n",
      "Using gpu device 3: GRID K520 (CNMeM is enabled with initial size: 98.0% of memory, CuDNN 3007)\n",
      "Using Theano backend.\n",
      "Process Process-4:\n",
      "Traceback (most recent call last):\n",
      "  File \"/usr/lib/python2.7/multiprocessing/process.py\", line 258, in _bootstrap\n",
      "    self.run()\n",
      "  File \"/usr/lib/python2.7/multiprocessing/process.py\", line 114, in run\n",
      "    self._target(*self._args, **self._kwargs)\n",
      "  File \"task_manager.py\", line 12, in _run_task_with_gpu\n",
      "    task.run()\n",
      "  File \"tasks.py\", line 32, in run\n",
      "    model.save_activations()\n",
      "  File \"models.py\", line 119, in save_activations\n",
      "    activations = self.get_activations()\n",
      "  File \"models.py\", line 128, in get_activations\n",
      "    self._get_activations_batch(self.X_train[batch_size * i: batch_size * (i + 1)]))\n",
      "  File \"models.py\", line 134, in _get_activations_batch\n",
      "    activations = fn([batch,0])\n",
      "  File \"/usr/local/lib/python2.7/dist-packages/keras/backend/theano_backend.py\", line 518, in __call__\n",
      "    return self.function(*inputs)\n",
      "  File \"/usr/local/lib/python2.7/dist-packages/theano/compile/function_module.py\", line 786, in __call__\n",
      "    allow_downcast=s.allow_downcast)\n",
      "  File \"/usr/local/lib/python2.7/dist-packages/theano/tensor/type.py\", line 177, in filter\n",
      "    data.shape))\n",
      "TypeError: ('Bad input argument to theano function with name \"/usr/local/lib/python2.7/dist-packages/keras/backend/theano_backend.py:514\"  at index 0(0-based)', 'Wrong number of dimensions: expected 4, got 3 with shape (100, 100, 100).')\n"
     ]
    }
   ],
   "source": [
    "api.train()"
   ]
  },
  {
   "cell_type": "code",
   "execution_count": 9,
   "metadata": {
    "collapsed": false
   },
   "outputs": [
    {
     "name": "stderr",
     "output_type": "stream",
     "text": [
      "Using Theano backend.\n"
     ]
    }
   ],
   "source": [
    "api.load_model()"
   ]
  },
  {
   "cell_type": "code",
   "execution_count": 10,
   "metadata": {
    "collapsed": false
   },
   "outputs": [
    {
     "ename": "AttributeError",
     "evalue": "'API' object has no attribute 'model'",
     "output_type": "error",
     "traceback": [
      "\u001b[1;31m---------------------------------------------------------------------------\u001b[0m",
      "\u001b[1;31mAttributeError\u001b[0m                            Traceback (most recent call last)",
      "\u001b[1;32m<ipython-input-10-ddb2291e60bd>\u001b[0m in \u001b[0;36m<module>\u001b[1;34m()\u001b[0m\n\u001b[1;32m----> 1\u001b[1;33m \u001b[1;32mprint\u001b[0m \u001b[0mapi\u001b[0m\u001b[1;33m.\u001b[0m\u001b[0mcompute_score\u001b[0m\u001b[1;33m(\u001b[0m\u001b[0msorted_names_by_count\u001b[0m\u001b[1;33m[\u001b[0m\u001b[1;36m0\u001b[0m\u001b[1;33m]\u001b[0m\u001b[1;33m[\u001b[0m\u001b[1;36m0\u001b[0m\u001b[1;33m]\u001b[0m\u001b[1;33m,\u001b[0m \u001b[0mimage\u001b[0m\u001b[1;33m.\u001b[0m\u001b[0mformat\u001b[0m\u001b[1;33m(\u001b[0m\u001b[0msorted_names_by_count\u001b[0m\u001b[1;33m[\u001b[0m\u001b[1;36m0\u001b[0m\u001b[1;33m]\u001b[0m\u001b[1;33m[\u001b[0m\u001b[1;36m0\u001b[0m\u001b[1;33m]\u001b[0m\u001b[1;33m,\u001b[0m \u001b[0mstr\u001b[0m\u001b[1;33m(\u001b[0m\u001b[1;36m6\u001b[0m\u001b[1;33m)\u001b[0m\u001b[1;33m.\u001b[0m\u001b[0mzfill\u001b[0m\u001b[1;33m(\u001b[0m\u001b[1;36m4\u001b[0m\u001b[1;33m)\u001b[0m\u001b[1;33m)\u001b[0m\u001b[1;33m)\u001b[0m\u001b[1;33m\u001b[0m\u001b[0m\n\u001b[0m\u001b[0;32m      2\u001b[0m \u001b[1;32mprint\u001b[0m \u001b[0mapi\u001b[0m\u001b[1;33m.\u001b[0m\u001b[0mcompute_score\u001b[0m\u001b[1;33m(\u001b[0m\u001b[0msorted_names_by_count\u001b[0m\u001b[1;33m[\u001b[0m\u001b[1;36m1\u001b[0m\u001b[1;33m]\u001b[0m\u001b[1;33m[\u001b[0m\u001b[1;36m0\u001b[0m\u001b[1;33m]\u001b[0m\u001b[1;33m,\u001b[0m \u001b[0mimage\u001b[0m\u001b[1;33m.\u001b[0m\u001b[0mformat\u001b[0m\u001b[1;33m(\u001b[0m\u001b[0msorted_names_by_count\u001b[0m\u001b[1;33m[\u001b[0m\u001b[1;36m0\u001b[0m\u001b[1;33m]\u001b[0m\u001b[1;33m[\u001b[0m\u001b[1;36m0\u001b[0m\u001b[1;33m]\u001b[0m\u001b[1;33m,\u001b[0m \u001b[0mstr\u001b[0m\u001b[1;33m(\u001b[0m\u001b[1;36m6\u001b[0m\u001b[1;33m)\u001b[0m\u001b[1;33m.\u001b[0m\u001b[0mzfill\u001b[0m\u001b[1;33m(\u001b[0m\u001b[1;36m4\u001b[0m\u001b[1;33m)\u001b[0m\u001b[1;33m)\u001b[0m\u001b[1;33m)\u001b[0m\u001b[1;33m\u001b[0m\u001b[0m\n\u001b[0;32m      3\u001b[0m \u001b[1;32mprint\u001b[0m \u001b[0mapi\u001b[0m\u001b[1;33m.\u001b[0m\u001b[0mcompute_score\u001b[0m\u001b[1;33m(\u001b[0m\u001b[0msorted_names_by_count\u001b[0m\u001b[1;33m[\u001b[0m\u001b[1;36m2\u001b[0m\u001b[1;33m]\u001b[0m\u001b[1;33m[\u001b[0m\u001b[1;36m0\u001b[0m\u001b[1;33m]\u001b[0m\u001b[1;33m,\u001b[0m \u001b[0mimage\u001b[0m\u001b[1;33m.\u001b[0m\u001b[0mformat\u001b[0m\u001b[1;33m(\u001b[0m\u001b[0msorted_names_by_count\u001b[0m\u001b[1;33m[\u001b[0m\u001b[1;36m0\u001b[0m\u001b[1;33m]\u001b[0m\u001b[1;33m[\u001b[0m\u001b[1;36m0\u001b[0m\u001b[1;33m]\u001b[0m\u001b[1;33m,\u001b[0m \u001b[0mstr\u001b[0m\u001b[1;33m(\u001b[0m\u001b[1;36m6\u001b[0m\u001b[1;33m)\u001b[0m\u001b[1;33m.\u001b[0m\u001b[0mzfill\u001b[0m\u001b[1;33m(\u001b[0m\u001b[1;36m4\u001b[0m\u001b[1;33m)\u001b[0m\u001b[1;33m)\u001b[0m\u001b[1;33m)\u001b[0m\u001b[1;33m\u001b[0m\u001b[0m\n\u001b[0;32m      4\u001b[0m \u001b[1;32mprint\u001b[0m \u001b[0mapi\u001b[0m\u001b[1;33m.\u001b[0m\u001b[0mcompute_score\u001b[0m\u001b[1;33m(\u001b[0m\u001b[0msorted_names_by_count\u001b[0m\u001b[1;33m[\u001b[0m\u001b[1;36m3\u001b[0m\u001b[1;33m]\u001b[0m\u001b[1;33m[\u001b[0m\u001b[1;36m0\u001b[0m\u001b[1;33m]\u001b[0m\u001b[1;33m,\u001b[0m \u001b[0mimage\u001b[0m\u001b[1;33m.\u001b[0m\u001b[0mformat\u001b[0m\u001b[1;33m(\u001b[0m\u001b[0msorted_names_by_count\u001b[0m\u001b[1;33m[\u001b[0m\u001b[1;36m0\u001b[0m\u001b[1;33m]\u001b[0m\u001b[1;33m[\u001b[0m\u001b[1;36m0\u001b[0m\u001b[1;33m]\u001b[0m\u001b[1;33m,\u001b[0m \u001b[0mstr\u001b[0m\u001b[1;33m(\u001b[0m\u001b[1;36m6\u001b[0m\u001b[1;33m)\u001b[0m\u001b[1;33m.\u001b[0m\u001b[0mzfill\u001b[0m\u001b[1;33m(\u001b[0m\u001b[1;36m4\u001b[0m\u001b[1;33m)\u001b[0m\u001b[1;33m)\u001b[0m\u001b[1;33m)\u001b[0m\u001b[1;33m\u001b[0m\u001b[0m\n",
      "\u001b[1;32m/home/ubuntu/FRS/facematch/api.pyc\u001b[0m in \u001b[0;36mcompute_score\u001b[1;34m(self, user_id, image)\u001b[0m\n\u001b[0;32m     46\u001b[0m         \u001b[0mimage\u001b[0m\u001b[1;33m:\u001b[0m \u001b[0meither\u001b[0m \u001b[0ma\u001b[0m \u001b[0mstring\u001b[0m \u001b[0mof\u001b[0m \u001b[0mthe\u001b[0m \u001b[0mfilename\u001b[0m \u001b[1;32mor\u001b[0m \u001b[0mnumpy\u001b[0m \u001b[0marray\u001b[0m \u001b[0mof\u001b[0m \u001b[0man\u001b[0m \u001b[0mRGB\u001b[0m \u001b[0mimage\u001b[0m\u001b[1;33m\u001b[0m\u001b[0m\n\u001b[0;32m     47\u001b[0m         \"\"\"\n\u001b[1;32m---> 48\u001b[1;33m         \u001b[1;32mif\u001b[0m \u001b[1;32mnot\u001b[0m \u001b[0mself\u001b[0m\u001b[1;33m.\u001b[0m\u001b[0mmodel\u001b[0m\u001b[1;33m:\u001b[0m\u001b[1;33m\u001b[0m\u001b[0m\n\u001b[0m\u001b[0;32m     49\u001b[0m             \u001b[1;32mraise\u001b[0m \u001b[0mException\u001b[0m\u001b[1;33m(\u001b[0m\u001b[1;34m'Model isn\\'t loaded. Call load_model()'\u001b[0m\u001b[1;33m)\u001b[0m\u001b[1;33m\u001b[0m\u001b[0m\n\u001b[0;32m     50\u001b[0m \u001b[1;33m\u001b[0m\u001b[0m\n",
      "\u001b[1;31mAttributeError\u001b[0m: 'API' object has no attribute 'model'"
     ]
    }
   ],
   "source": [
    "print api.compute_score(sorted_names_by_count[0][0], image.format(sorted_names_by_count[0][0], str(6).zfill(4)))\n",
    "print api.compute_score(sorted_names_by_count[1][0], image.format(sorted_names_by_count[0][0], str(6).zfill(4)))\n",
    "print api.compute_score(sorted_names_by_count[2][0], image.format(sorted_names_by_count[0][0], str(6).zfill(4)))\n",
    "print api.compute_score(sorted_names_by_count[3][0], image.format(sorted_names_by_count[0][0], str(6).zfill(4)))"
   ]
  },
  {
   "cell_type": "code",
   "execution_count": null,
   "metadata": {
    "collapsed": false
   },
   "outputs": [],
   "source": [
    "sorted_names_by_count[0][0]"
   ]
  },
  {
   "cell_type": "code",
   "execution_count": null,
   "metadata": {
    "collapsed": true
   },
   "outputs": [],
   "source": []
  }
 ],
 "metadata": {
  "kernelspec": {
   "display_name": "Python 2",
   "language": "python",
   "name": "python2"
  },
  "language_info": {
   "codemirror_mode": {
    "name": "ipython",
    "version": 2
   },
   "file_extension": ".py",
   "mimetype": "text/x-python",
   "name": "python",
   "nbconvert_exporter": "python",
   "pygments_lexer": "ipython2",
   "version": "2.7.6"
  }
 },
 "nbformat": 4,
 "nbformat_minor": 0
}
