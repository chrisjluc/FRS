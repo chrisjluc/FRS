{
 "cells": [
  {
   "cell_type": "code",
   "execution_count": 1,
   "metadata": {
    "collapsed": true
   },
   "outputs": [],
   "source": [
    "%load_ext autoreload"
   ]
  },
  {
   "cell_type": "code",
   "execution_count": 2,
   "metadata": {
    "collapsed": false
   },
   "outputs": [],
   "source": [
    "%matplotlib inline\n",
    "\n",
    "from api import API"
   ]
  },
  {
   "cell_type": "code",
   "execution_count": 3,
   "metadata": {
    "collapsed": true
   },
   "outputs": [],
   "source": [
    "image_1 = 'tests/.data/George_W_Bush/George_W_Bush_{}.jpg'\n",
    "image_2 = 'tests/.data/Colin_Powell/Colin_Powell_{}.jpg'\n",
    "\n",
    "user_id_1 = '10'\n",
    "user_id_2 = '11'"
   ]
  },
  {
   "cell_type": "code",
   "execution_count": 4,
   "metadata": {
    "collapsed": false
   },
   "outputs": [],
   "source": [
    "api = API()\n",
    "api.remove_images()\n",
    "\n",
    "for i in range(20):\n",
    "    api.add_image(user_id_1, image_1.format(str(i + 1).zfill(4)))\n",
    "    api.add_image(user_id_2, image_2.format(str(i + 1).zfill(4)))"
   ]
  },
  {
   "cell_type": "code",
   "execution_count": 5,
   "metadata": {
    "collapsed": false,
    "scrolled": false
   },
   "outputs": [
    {
     "name": "stderr",
     "output_type": "stream",
     "text": [
      "Using gpu device 0: GRID K520 (CNMeM is enabled with initial size: 98.0% of memory, CuDNN 3007)\n",
      "Using Theano backend.\n"
     ]
    },
    {
     "name": "stdout",
     "output_type": "stream",
     "text": [
      "Train on 136 samples, validate on 24 samples\n",
      "Epoch 1/10\n",
      "136/136 [==============================] - 4s - loss: 0.7790 - acc: 0.5294 - val_loss: 0.7566 - val_acc: 0.5000\n",
      "Epoch 2/10\n",
      "136/136 [==============================] - 4s - loss: 0.7425 - acc: 0.5074 - val_loss: 0.6968 - val_acc: 0.5000\n",
      "Epoch 3/10\n",
      "136/136 [==============================] - 4s - loss: 0.6876 - acc: 0.5074 - val_loss: 0.6875 - val_acc: 0.5000\n",
      "Epoch 4/10\n",
      "136/136 [==============================] - 4s - loss: 0.6868 - acc: 0.5074 - val_loss: 0.6840 - val_acc: 0.5000\n",
      "Epoch 5/10\n",
      "136/136 [==============================] - 4s - loss: 0.6894 - acc: 0.5074 - val_loss: 0.6894 - val_acc: 0.5000\n",
      "Epoch 6/10\n",
      "136/136 [==============================] - 4s - loss: 0.6783 - acc: 0.5368 - val_loss: 0.6825 - val_acc: 0.5000\n",
      "Epoch 7/10\n",
      "136/136 [==============================] - 4s - loss: 0.6572 - acc: 0.5956 - val_loss: 0.6919 - val_acc: 0.5000\n",
      "Epoch 8/10\n",
      "136/136 [==============================] - 4s - loss: 0.6798 - acc: 0.5956 - val_loss: 0.6718 - val_acc: 0.5000\n",
      "Epoch 9/10\n",
      "136/136 [==============================] - 4s - loss: 0.6755 - acc: 0.5662 - val_loss: 0.6895 - val_acc: 0.5000\n",
      "Epoch 10/10\n",
      "136/136 [==============================] - 4s - loss: 0.6730 - acc: 0.6103 - val_loss: 0.6681 - val_acc: 0.5000\n",
      "Train on 136 samples, validate on 24 samples\n",
      "Epoch 1/10\n",
      "136/136 [==============================] - 4s - loss: 0.6619 - acc: 0.5882 - val_loss: 0.6595 - val_acc: 0.5000\n",
      "Epoch 2/10\n",
      "136/136 [==============================] - 4s - loss: 0.6608 - acc: 0.5956 - val_loss: 0.6517 - val_acc: 0.7083\n",
      "Epoch 3/10\n",
      "136/136 [==============================] - 4s - loss: 0.6521 - acc: 0.6618 - val_loss: 0.6479 - val_acc: 0.7917\n",
      "Epoch 4/10\n",
      "136/136 [==============================] - 4s - loss: 0.6271 - acc: 0.7721 - val_loss: 0.6448 - val_acc: 0.8333\n",
      "Epoch 5/10\n",
      "136/136 [==============================] - 4s - loss: 0.6314 - acc: 0.7500 - val_loss: 0.6434 - val_acc: 0.8333\n",
      "Epoch 6/10\n",
      "136/136 [==============================] - 4s - loss: 0.6244 - acc: 0.7574 - val_loss: 0.6414 - val_acc: 0.8333\n",
      "Epoch 7/10\n",
      "136/136 [==============================] - 4s - loss: 0.6365 - acc: 0.7353 - val_loss: 0.6404 - val_acc: 0.8333\n",
      "Epoch 8/10\n",
      "136/136 [==============================] - 4s - loss: 0.6240 - acc: 0.7500 - val_loss: 0.6393 - val_acc: 0.7917\n",
      "Epoch 9/10\n",
      "136/136 [==============================] - 4s - loss: 0.6369 - acc: 0.6765 - val_loss: 0.6365 - val_acc: 0.8333\n",
      "Epoch 10/10\n",
      "136/136 [==============================] - 4s - loss: 0.6343 - acc: 0.6838 - val_loss: 0.6349 - val_acc: 0.8333\n"
     ]
    }
   ],
   "source": [
    "api.train()"
   ]
  },
  {
   "cell_type": "code",
   "execution_count": 6,
   "metadata": {
    "collapsed": false
   },
   "outputs": [
    {
     "name": "stderr",
     "output_type": "stream",
     "text": [
      "Using Theano backend.\n"
     ]
    }
   ],
   "source": [
    "api.load_model()"
   ]
  },
  {
   "cell_type": "code",
   "execution_count": 8,
   "metadata": {
    "collapsed": false
   },
   "outputs": [
    {
     "name": "stdout",
     "output_type": "stream",
     "text": [
      "1/1 [==============================] - 0s\n"
     ]
    },
    {
     "data": {
      "text/plain": [
       "0.44446790218353271"
      ]
     },
     "execution_count": 8,
     "metadata": {},
     "output_type": "execute_result"
    }
   ],
   "source": [
    "api.compute_score(user_id_2, image_1.format(str(101).zfill(4)))"
   ]
  },
  {
   "cell_type": "code",
   "execution_count": null,
   "metadata": {
    "collapsed": true
   },
   "outputs": [],
   "source": []
  }
 ],
 "metadata": {
  "kernelspec": {
   "display_name": "Python 2",
   "language": "python",
   "name": "python2"
  },
  "language_info": {
   "codemirror_mode": {
    "name": "ipython",
    "version": 2
   },
   "file_extension": ".py",
   "mimetype": "text/x-python",
   "name": "python",
   "nbconvert_exporter": "python",
   "pygments_lexer": "ipython2",
   "version": "2.7.6"
  }
 },
 "nbformat": 4,
 "nbformat_minor": 0
}
