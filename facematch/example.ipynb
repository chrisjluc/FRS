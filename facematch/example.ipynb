{
 "cells": [
  {
   "cell_type": "code",
   "execution_count": 1,
   "metadata": {
    "collapsed": true
   },
   "outputs": [],
   "source": [
    "%load_ext autoreload"
   ]
  },
  {
   "cell_type": "code",
   "execution_count": 2,
   "metadata": {
    "collapsed": false
   },
   "outputs": [],
   "source": [
    "%matplotlib inline\n",
    "\n",
    "from api import API"
   ]
  },
  {
   "cell_type": "code",
   "execution_count": 3,
   "metadata": {
    "collapsed": true
   },
   "outputs": [],
   "source": [
    "image_1 = 'tests/.data/George_W_Bush/George_W_Bush_{}.jpg'\n",
    "image_2 = 'tests/.data/Colin_Powell/Colin_Powell_{}.jpg'\n",
    "\n",
    "user_id_1 = '10'\n",
    "user_id_2 = '11'"
   ]
  },
  {
   "cell_type": "code",
   "execution_count": 4,
   "metadata": {
    "collapsed": false
   },
   "outputs": [],
   "source": [
    "api = API()\n",
    "api.remove_images()\n",
    "\n",
    "for i in range(200):\n",
    "    api.add_image(user_id_1, image_1.format(str(i + 1).zfill(4)))\n",
    "    api.add_image(user_id_2, image_2.format(str(i + 1).zfill(4)))"
   ]
  },
  {
   "cell_type": "code",
   "execution_count": 5,
   "metadata": {
    "collapsed": false,
    "scrolled": false
   },
   "outputs": [
    {
     "name": "stderr",
     "output_type": "stream",
     "text": [
      "Using gpu device 0: GRID K520 (CNMeM is enabled with initial size: 98.0% of memory, CuDNN 3007)\n",
      "Using Theano backend.\n"
     ]
    },
    {
     "name": "stdout",
     "output_type": "stream",
     "text": [
      "Train on 1360 samples, validate on 240 samples\n",
      "Epoch 1/10\n",
      "1360/1360 [==============================] - 44s - loss: 0.7018 - acc: 0.5279 - val_loss: 0.6800 - val_acc: 0.5333\n",
      "Epoch 2/10\n",
      "1360/1360 [==============================] - 44s - loss: 0.6786 - acc: 0.5846 - val_loss: 0.6571 - val_acc: 0.6708\n",
      "Epoch 3/10\n",
      "1360/1360 [==============================] - 44s - loss: 0.6613 - acc: 0.6081 - val_loss: 0.7284 - val_acc: 0.4667\n",
      "Epoch 4/10\n",
      "1360/1360 [==============================] - 44s - loss: 0.6233 - acc: 0.6662 - val_loss: 0.5814 - val_acc: 0.6292\n",
      "Epoch 5/10\n",
      "1360/1360 [==============================] - 44s - loss: 0.5582 - acc: 0.7272 - val_loss: 0.5763 - val_acc: 0.5667\n",
      "Epoch 6/10\n",
      "1360/1360 [==============================] - 44s - loss: 0.4506 - acc: 0.7787 - val_loss: 0.3252 - val_acc: 0.9333\n",
      "Epoch 7/10\n",
      "1360/1360 [==============================] - 44s - loss: 0.3296 - acc: 0.8662 - val_loss: 0.2461 - val_acc: 0.9042\n",
      "Epoch 8/10\n",
      "1360/1360 [==============================] - 44s - loss: 0.1504 - acc: 0.9412 - val_loss: 0.0491 - val_acc: 0.9958\n",
      "Epoch 9/10\n",
      "1360/1360 [==============================] - 44s - loss: 0.1733 - acc: 0.9346 - val_loss: 0.0548 - val_acc: 0.9833\n",
      "Epoch 10/10\n",
      "1360/1360 [==============================] - 44s - loss: 0.0552 - acc: 0.9794 - val_loss: 0.0224 - val_acc: 0.9917\n",
      "Train on 1360 samples, validate on 240 samples\n",
      "Epoch 1/10\n",
      "1360/1360 [==============================] - 44s - loss: 0.0307 - acc: 0.9904 - val_loss: 0.0111 - val_acc: 1.0000\n",
      "Epoch 2/10\n",
      "1360/1360 [==============================] - 44s - loss: 0.0212 - acc: 0.9963 - val_loss: 0.0095 - val_acc: 1.0000\n",
      "Epoch 3/10\n",
      "1360/1360 [==============================] - 44s - loss: 0.0186 - acc: 0.9956 - val_loss: 0.0081 - val_acc: 1.0000\n",
      "Epoch 4/10\n",
      "1360/1360 [==============================] - 44s - loss: 0.0194 - acc: 0.9956 - val_loss: 0.0074 - val_acc: 1.0000\n",
      "Epoch 5/10\n",
      "1360/1360 [==============================] - 44s - loss: 0.0183 - acc: 0.9941 - val_loss: 0.0068 - val_acc: 1.0000\n",
      "Epoch 6/10\n",
      "1360/1360 [==============================] - 44s - loss: 0.0158 - acc: 0.9963 - val_loss: 0.0063 - val_acc: 1.0000\n",
      "Epoch 7/10\n",
      "1360/1360 [==============================] - 44s - loss: 0.0143 - acc: 0.9971 - val_loss: 0.0060 - val_acc: 1.0000\n",
      "Epoch 8/10\n",
      "1360/1360 [==============================] - 44s - loss: 0.0121 - acc: 0.9971 - val_loss: 0.0052 - val_acc: 1.0000\n",
      "Epoch 9/10\n",
      "1360/1360 [==============================] - 44s - loss: 0.0126 - acc: 0.9963 - val_loss: 0.0053 - val_acc: 1.0000\n",
      "Epoch 10/10\n",
      "1360/1360 [==============================] - 44s - loss: 0.0115 - acc: 0.9978 - val_loss: 0.0050 - val_acc: 1.0000\n"
     ]
    }
   ],
   "source": [
    "api.train()"
   ]
  },
  {
   "cell_type": "code",
   "execution_count": 6,
   "metadata": {
    "collapsed": false
   },
   "outputs": [
    {
     "name": "stderr",
     "output_type": "stream",
     "text": [
      "Using Theano backend.\n"
     ]
    }
   ],
   "source": [
    "api.load_model()"
   ]
  },
  {
   "cell_type": "code",
   "execution_count": 9,
   "metadata": {
    "collapsed": false
   },
   "outputs": [
    {
     "name": "stdout",
     "output_type": "stream",
     "text": [
      "1/1 [==============================] - 0s\n"
     ]
    },
    {
     "data": {
      "text/plain": [
       "0.99958473443984985"
      ]
     },
     "execution_count": 9,
     "metadata": {},
     "output_type": "execute_result"
    }
   ],
   "source": [
    "api.compute_score(user_id_1, image_1.format(str(101).zfill(4)))"
   ]
  },
  {
   "cell_type": "code",
   "execution_count": null,
   "metadata": {
    "collapsed": true
   },
   "outputs": [],
   "source": []
  }
 ],
 "metadata": {
  "kernelspec": {
   "display_name": "Python 2",
   "language": "python",
   "name": "python2"
  },
  "language_info": {
   "codemirror_mode": {
    "name": "ipython",
    "version": 2
   },
   "file_extension": ".py",
   "mimetype": "text/x-python",
   "name": "python",
   "nbconvert_exporter": "python",
   "pygments_lexer": "ipython2",
   "version": "2.7.6"
  }
 },
 "nbformat": 4,
 "nbformat_minor": 0
}
